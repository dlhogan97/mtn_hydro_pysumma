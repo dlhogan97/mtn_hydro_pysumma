{
 "cells": [
  {
   "cell_type": "markdown",
   "metadata": {},
   "source": [
    "# Intersect catchment with landGRIDS land classes\n",
    "Counts the occurence of each land class in each HRU in the model setup with pyQGIS."
   ]
  },
  {
   "cell_type": "code",
   "execution_count": 1,
   "metadata": {},
   "outputs": [
    {
     "name": "stderr",
     "output_type": "stream",
     "text": [
      "Application path not initialized\n"
     ]
    }
   ],
   "source": [
    "import os\n",
    "import processing # QGIS algorithm runner\n",
    "from pathlib import Path\n",
    "from shutil import copyfile\n",
    "from datetime import datetime\n",
    "from qgis.core import QgsApplication, QgsVectorLayer, QgsRasterLayer, QgsProcessingFeedback\n",
    "from qgis.analysis import QgsNativeAlgorithms, QgsZonalStatistics\n",
    "from utils.read_files import read_from_control, make_default_path"
   ]
  },
  {
   "cell_type": "markdown",
   "metadata": {},
   "source": [
    "#### Control file handling\n",
    "\n"
   ]
  },
  {
   "cell_type": "code",
   "execution_count": 2,
   "metadata": {},
   "outputs": [],
   "source": [
    "# Store the name of the 'active' file in a variable\n",
    "controlFile = 'control_EastRiver.txt'\n",
    "\n",
    "averaging_type = 'majority' # 'majority' or 'histogram'"
   ]
  },
  {
   "cell_type": "markdown",
   "metadata": {},
   "source": [
    "#### Find location of shapefile and land class .tif"
   ]
  },
  {
   "cell_type": "code",
   "execution_count": 3,
   "metadata": {},
   "outputs": [],
   "source": [
    "# Catchment shapefile path & name\n",
    "catchment_path = read_from_control(controlFile,'catchment_shp_path')\n",
    "catchment_name = read_from_control(controlFile,'catchment_shp_name')"
   ]
  },
  {
   "cell_type": "code",
   "execution_count": 4,
   "metadata": {},
   "outputs": [],
   "source": [
    "# Specify default path if needed\n",
    "if catchment_path == 'default':\n",
    "    catchment_path = make_default_path('shapefiles/catchment', controlFile) # outputs a Path()\n",
    "else:\n",
    "    catchment_path = Path(catchment_path) # make sure a user-specified path is a Path()"
   ]
  },
  {
   "cell_type": "code",
   "execution_count": 5,
   "metadata": {},
   "outputs": [],
   "source": [
    "# Forcing shapefile path & name\n",
    "land_path = read_from_control(controlFile,'parameter_land_mode_path')\n",
    "land_name = read_from_control(controlFile,'parameter_land_tif_name')"
   ]
  },
  {
   "cell_type": "code",
   "execution_count": 6,
   "metadata": {},
   "outputs": [],
   "source": [
    "# Specify default path if needed\n",
    "if land_path == 'default':\n",
    "    land_path = make_default_path('parameters/landclass/', controlFile) # outputs a Path()\n",
    "else:\n",
    "    land_path = Path(land_path) # make sure a user-specified path is a Path()"
   ]
  },
  {
   "cell_type": "markdown",
   "metadata": {},
   "source": [
    "#### Find where the intersection needs to go"
   ]
  },
  {
   "cell_type": "code",
   "execution_count": 7,
   "metadata": {},
   "outputs": [],
   "source": [
    "# Intersected shapefile path and name\n",
    "intersect_path = read_from_control(controlFile,'intersect_land_path')\n",
    "intersect_name = read_from_control(controlFile,'intersect_land_name')"
   ]
  },
  {
   "cell_type": "code",
   "execution_count": 8,
   "metadata": {},
   "outputs": [
    {
     "data": {
      "text/plain": [
       "'catchment_with_nlcd.shp'"
      ]
     },
     "execution_count": 8,
     "metadata": {},
     "output_type": "execute_result"
    }
   ],
   "source": [
    "# Specify default path if needed\n",
    "if intersect_path == 'default':\n",
    "    intersect_path = make_default_path('shapefiles/catchment_intersection/with_veg', controlFile) # outputs a Path()\n",
    "else:\n",
    "    intersect_path = Path(intersect_path) # make sure a user-specified path is a Path()\n",
    "intersect_name"
   ]
  },
  {
   "cell_type": "code",
   "execution_count": 9,
   "metadata": {},
   "outputs": [],
   "source": [
    "# Make the folder if it doesn't exist\n",
    "intersect_path.mkdir(parents=True, exist_ok=True)"
   ]
  },
  {
   "cell_type": "code",
   "execution_count": 10,
   "metadata": {},
   "outputs": [
    {
     "data": {
      "text/plain": [
       "'catchment_with_nlcd.shp'"
      ]
     },
     "execution_count": 10,
     "metadata": {},
     "output_type": "execute_result"
    }
   ],
   "source": [
    "intersect_name"
   ]
  },
  {
   "cell_type": "code",
   "execution_count": 11,
   "metadata": {},
   "outputs": [],
   "source": [
    "if averaging_type == 'majority':    \n",
    "    # Find the name without extension\n",
    "    catchment_base = catchment_name.replace('.shp','')\n",
    "    # Loop over directory contents and copy files that match the filename of the shape\n",
    "    for file in os.listdir(catchment_path):\n",
    "        if catchment_base in file: # copy only the relevant files in case there are more than 1 .shp files\n",
    "            \n",
    "            # make the output file name\n",
    "            _,ext = os.path.splitext(file)                    # extension of current file\n",
    "            basefile,_ = os.path.splitext(intersect_name)     # name of the intersection file w/o extension\n",
    "            newfile = basefile + ext                          # new name + old extension\n",
    "            \n",
    "            # copy\n",
    "            copyfile(catchment_path/file, intersect_path/newfile);\n",
    "else:\n",
    "    # remove these files if they exist\n",
    "    for file in os.listdir(intersect_path):\n",
    "        if intersect_name in file:\n",
    "            os.remove(intersect_path/file)"
   ]
  },
  {
   "cell_type": "markdown",
   "metadata": {},
   "source": [
    "#### QGIS analysis"
   ]
  },
  {
   "cell_type": "code",
   "execution_count": 12,
   "metadata": {},
   "outputs": [
    {
     "name": "stderr",
     "output_type": "stream",
     "text": [
      "Application path not initialized\n",
      "Application path not initialized\n",
      "Application path not initialized\n",
      "Application path not initialized\n",
      "Application path not initialized\n",
      "Application path not initialized\n",
      "Application path not initialized\n",
      "Application path not initialized\n",
      "Application path not initialized\n",
      "Application path not initialized\n",
      "Application path not initialized\n",
      "Application path not initialized\n",
      "Application path not initialized\n",
      "Application path not initialized\n",
      "Application path not initialized\n",
      "Application path not initialized\n",
      "Application path not initialized\n",
      "Application path not initialized\n",
      "Application path not initialized\n",
      "Application path not initialized\n",
      "Application path not initialized\n",
      "Application path not initialized\n",
      "Application path not initialized\n",
      "Application path not initialized\n",
      "Application path not initialized\n",
      "Application path not initialized\n"
     ]
    }
   ],
   "source": [
    "# Import all native QGIS algorithms\n",
    "QgsApplication.processingRegistry().addProvider(QgsNativeAlgorithms());"
   ]
  },
  {
   "cell_type": "code",
   "execution_count": 13,
   "metadata": {},
   "outputs": [],
   "source": [
    "# Convert Path() to string for QGIS\n",
    "catchment_file = str(intersect_path/intersect_name)\n",
    "land_file      = str(land_path/land_name)"
   ]
  },
  {
   "cell_type": "code",
   "execution_count": 14,
   "metadata": {},
   "outputs": [
    {
     "name": "stderr",
     "output_type": "stream",
     "text": [
      "Application path not initialized\n",
      "Application path not initialized\n",
      "Application path not initialized\n",
      "Application path not initialized\n"
     ]
    }
   ],
   "source": [
    "# Load the shape and raster\n",
    "layer_polygon = QgsVectorLayer(catchment_file,'merit_hydro_basin','ogr') # this works\n",
    "layer_raster  = QgsRasterLayer(land_file,'landgrids_land_classes') # this works"
   ]
  },
  {
   "cell_type": "code",
   "execution_count": 15,
   "metadata": {},
   "outputs": [],
   "source": [
    "# Check we loaded the layers correctly\n",
    "if not layer_raster.isValid():\n",
    "    print('Raster layer failed to load')\n",
    "    \n",
    "if not layer_polygon.isValid():\n",
    "    print('Polygon layer failed to load')"
   ]
  },
  {
   "cell_type": "code",
   "execution_count": 16,
   "metadata": {},
   "outputs": [],
   "source": [
    "# Algorithm feedback\n",
    "feedback = QgsProcessingFeedback()"
   ]
  },
  {
   "cell_type": "code",
   "execution_count": 17,
   "metadata": {},
   "outputs": [
    {
     "name": "stderr",
     "output_type": "stream",
     "text": [
      "QObject::startTimer: Timers can only be used with threads started with QThread\n",
      "Warning 1: Value 206830746.98144582 of field HRU_area of feature 0 not successfully written. Possibly due to too larger number with respect to field width\n",
      "Warning 1: Value 372989589.04101098 of field HRU_area of feature 1 not successfully written. Possibly due to too larger number with respect to field width\n",
      "Warning 1: Value 163108286.0009017 of field HRU_area of feature 2 not successfully written. Possibly due to too larger number with respect to field width\n"
     ]
    }
   ],
   "source": [
    "# Run the zonalHistogram\n",
    "# Specify the parameters for the zonalHistogram function\n",
    "band = 1 # raster band with the data we are after\n",
    "params = { 'COLUMN_PREFIX': 'USGS_',\n",
    "           'INPUT_RASTER' : layer_raster, \n",
    "           'INPUT_VECTOR' : layer_polygon, \n",
    "           'OUTPUT'       : str(intersect_path/intersect_name), \n",
    "           'RASTER_BAND'  : band }\n",
    "if averaging_type == 'majority':\n",
    "    # Create a zonal statistics object, automatically saved to file\n",
    "    zonalstats = QgsZonalStatistics(layer_polygon,                 # shapefile\n",
    "                                    layer_raster,                  # .tif\n",
    "                                    'landcover_',                       # prefix for the new column added to the shapefile  \n",
    "                                    band,                          # raster band we're interested in\n",
    "                                    stats=QgsZonalStatistics.Majority).calculateStatistics(None) # taking the majority of land pixels\n",
    "elif averaging_type == \"histogram\":\n",
    "    res = processing.run(\"native:zonalhistogram\", params, feedback=feedback)"
   ]
  }
 ],
 "metadata": {
  "kernelspec": {
   "display_name": "pc_env",
   "language": "python",
   "name": "python3"
  },
  "language_info": {
   "codemirror_mode": {
    "name": "ipython",
    "version": 3
   },
   "file_extension": ".py",
   "mimetype": "text/x-python",
   "name": "python",
   "nbconvert_exporter": "python",
   "pygments_lexer": "ipython3",
   "version": "3.11.0"
  }
 },
 "nbformat": 4,
 "nbformat_minor": 4
}
