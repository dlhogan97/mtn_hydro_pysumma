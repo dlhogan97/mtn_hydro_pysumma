{
 "cells": [
  {
   "cell_type": "code",
   "execution_count": 1,
   "metadata": {},
   "outputs": [],
   "source": [
    "from datetime import datetime\n",
    "from metloom.pointdata import SnotelPointData, CDECPointData\n",
    "from metloom.variables import SnotelVariables, CdecStationVariables\n",
    "import geopandas as gpd\n",
    "from pathlib import Path\n",
    "from utils.read_files import read_from_control, make_default_path"
   ]
  },
  {
   "cell_type": "code",
   "execution_count": 2,
   "metadata": {},
   "outputs": [],
   "source": [
    "# Store the name of the 'active' file in a variable\n",
    "controlFile = 'control_EastRiver.txt'\n",
    "# basin name and outlet gauge id\n",
    "root_path = Path(read_from_control(controlFile, \"root_path\"))\n",
    "name = read_from_control(controlFile, \"domain_name\")\n",
    "\n",
    "fp = root_path / f\"domain_{name}\"\n",
    "obj = gpd.read_file(fp / \"shapefiles\" / \"catchment\" / f\"{name}.shp\")"
   ]
  },
  {
   "cell_type": "code",
   "execution_count": 3,
   "metadata": {},
   "outputs": [],
   "source": [
    "vrs = [\n",
    "    SnotelVariables.SWE,\n",
    "    SnotelVariables.SNOWDEPTH\n",
    "]\n",
    "points = SnotelPointData.points_from_geometry(obj, vrs)\n",
    "gdf = points.to_dataframe()"
   ]
  },
  {
   "cell_type": "code",
   "execution_count": 37,
   "metadata": {},
   "outputs": [
    {
     "name": "stdout",
     "output_type": "stream",
     "text": [
      "Downloading data for 380:CO:SNTL...\n"
     ]
    },
    {
     "name": "stderr",
     "output_type": "stream",
     "text": [
      "No Relative Humidity found for Station\n"
     ]
    }
   ],
   "source": [
    "# download the data from each site\n",
    "for i, id in enumerate(gdf.id):\n",
    "    snotel_point = SnotelPointData(id, \"Station\")\n",
    "    print(f\"Downloading data for {id}...\")\n",
    "    df = snotel_point.get_daily_data(\n",
    "        datetime(2021, 10, 1), datetime(2023, 9, 30),\n",
    "        [snotel_point.ALLOWED_VARIABLES.SWE,\n",
    "         snotel_point.ALLOWED_VARIABLES.PRECIPITATION,\n",
    "         snotel_point.ALLOWED_VARIABLES.PRECIPITATIONACCUM,\n",
    "         snotel_point.ALLOWED_VARIABLES.SOILMOISTURE2IN,\n",
    "         snotel_point.ALLOWED_VARIABLES.SOILMOISTURE8IN,\n",
    "         snotel_point.ALLOWED_VARIABLES.SOILMOISTURE20IN,\n",
    "         snotel_point.ALLOWED_VARIABLES.TEMP,\n",
    "         snotel_point.ALLOWED_VARIABLES.RH,\n",
    "         ]\n",
    "    )\n",
    "    if df is None:\n",
    "        continue\n",
    "    else:\n",
    "        # save the data to a csv file\n",
    "        filename = 'OBS_' + gdf.loc[i]['name'].replace(\" \", \"_\").upper()\n",
    "        df.to_csv(fp / \"forcing\" / \"01_raw_data\" / f\"{filename}.csv\")"
   ]
  },
  {
   "cell_type": "code",
   "execution_count": null,
   "metadata": {},
   "outputs": [],
   "source": [
    "vrs = [\n",
    "    CdecStationVariables.SWE,\n",
    "    CdecStationVariables.SNOWDEPTH\n",
    "]\n",
    "points = CDECPointData.points_from_geometry(obj, vrs)\n",
    "gdf = points.to_dataframe()"
   ]
  },
  {
   "cell_type": "code",
   "execution_count": 33,
   "metadata": {},
   "outputs": [
    {
     "name": "stdout",
     "output_type": "stream",
     "text": [
      "Downloading data for WHW...\n",
      "Downloading data for AGP...\n",
      "Downloading data for TUM...\n",
      "Downloading data for TNY...\n",
      "Downloading data for DAN...\n",
      "Downloading data for FLV...\n",
      "Downloading data for PDS...\n",
      "Downloading data for SNF...\n",
      "Downloading data for VRG...\n",
      "Downloading data for GEM...\n",
      "Downloading data for SLI...\n",
      "Downloading data for TES...\n",
      "Downloading data for ERY...\n",
      "Downloading data for GYP...\n",
      "Downloading data for MLK...\n"
     ]
    }
   ],
   "source": [
    "# download the data from each site\n",
    "for i, id in enumerate(gdf.id):\n",
    "    snotel_point = CDECPointData(id, \"Station\")\n",
    "    print(f\"Downloading data for {id}...\")\n",
    "    df = snotel_point.get_daily_data(\n",
    "        datetime(2021, 10, 1), datetime(2023, 9, 30),\n",
    "        [snotel_point.ALLOWED_VARIABLES.SWE,\n",
    "         snotel_point.ALLOWED_VARIABLES.PRECIPITATION,\n",
    "         snotel_point.ALLOWED_VARIABLES.PRECIPITATIONACCUM,\n",
    "        #  snotel_point.ALLOWED_VARIABLES.SOILMOISTURE2IN,\n",
    "        #  snotel_point.ALLOWED_VARIABLES.SOILMOISTURE4IN,\n",
    "        #  snotel_point.ALLOWED_VARIABLES.SOILMOISTURE8IN,\n",
    "        #  snotel_point.ALLOWED_VARIABLES.SOILMOISTURE20IN,\n",
    "         snotel_point.ALLOWED_VARIABLES.TEMP,\n",
    "         snotel_point.ALLOWED_VARIABLES.RH,\n",
    "         ]\n",
    "    )\n",
    "    if df is None:\n",
    "        continue\n",
    "    else:\n",
    "        # save the data to a csv file\n",
    "        filename = 'OBS_' + gdf.loc[i]['name'].replace(\" \", \"_\").upper()\n",
    "        df.to_csv(fp / f\"{filename}.csv\")"
   ]
  }
 ],
 "metadata": {
  "kernelspec": {
   "display_name": "pc_env",
   "language": "python",
   "name": "python3"
  },
  "language_info": {
   "codemirror_mode": {
    "name": "ipython",
    "version": 3
   },
   "file_extension": ".py",
   "mimetype": "text/x-python",
   "name": "python",
   "nbconvert_exporter": "python",
   "pygments_lexer": "ipython3",
   "version": "3.11.0"
  }
 },
 "nbformat": 4,
 "nbformat_minor": 2
}
