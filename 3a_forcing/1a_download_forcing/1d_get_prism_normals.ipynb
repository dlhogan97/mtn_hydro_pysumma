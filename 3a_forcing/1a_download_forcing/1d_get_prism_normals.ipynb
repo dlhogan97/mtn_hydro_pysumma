{
 "cells": [
  {
   "cell_type": "code",
   "execution_count": 14,
   "metadata": {},
   "outputs": [],
   "source": [
    "from pathlib import Path\n",
    "import requests\n",
    "import zipfile\n",
    "import pandas as pd\n",
    "from shapely import wkt\n",
    "import rioxarray as rxr\n",
    "import geopandas as gpd"
   ]
  },
  {
   "cell_type": "code",
   "execution_count": 3,
   "metadata": {},
   "outputs": [],
   "source": [
    "storage_path = Path('/storage/dlhogan/summa_modeling_data/prism/')"
   ]
  },
  {
   "cell_type": "code",
   "execution_count": 22,
   "metadata": {},
   "outputs": [],
   "source": [
    "def download_prism_normals(resolution: str, element: str, date: str, save_path: str):\n",
    "    \"\"\"\n",
    "    Downloads PRISM normals data for the given resolution, element, and date.\n",
    "    \n",
    "    Parameters:\n",
    "        resolution (str): '4km' or '800m'\n",
    "        element (str): One of ['ppt', 'tmin', 'tmax', 'tmean', 'tdmean', 'vpdmin', 'vpdmax', 'solslope', 'soltotal', 'solclear', 'soltrans']\n",
    "        date (str): 'MM' for monthly, 'MMDD' for daily, or '14' for annual normal\n",
    "        save_path (str): Directory where the downloaded file should be saved\n",
    "    \"\"\"\n",
    "    base_url = \"https://services.nacse.org/prism/data/public/normals\"\n",
    "    url = f\"{base_url}/{resolution}/{element}/{date}\"\n",
    "    \n",
    "    response = requests.get(url, stream=True)\n",
    "    if \"ppt\" not in [f.name for f in (storage_path / \"PRISM_800m_annual_normals\").glob(\"*\")][0]:\n",
    "        \n",
    "        if response.status_code == 200:\n",
    "            filename = f\"PRISM_{resolution}_{element}_{date}.zip\"\n",
    "            filepath = os.path.join(save_path, filename)\n",
    "            \n",
    "            with open(filepath, 'wb') as file:\n",
    "                for chunk in response.iter_content(chunk_size=1024):\n",
    "                    file.write(chunk)\n",
    "            \n",
    "            print(f\"Download complete: {filepath}\")\n",
    "\n",
    "        else:\n",
    "            print(f\"Failed to download data. HTTP Status Code: {response.status_code}\")\n",
    "            return\n",
    "    \n",
    "        unzip_and_move_files(storage_path / f\"PRISM_800m_{element}_14.zip\", storage_path / \"PRISM_800m_annual_normals\")\n",
    "        return\n",
    "    else:\n",
    "        print(\"PRISM ppt normals already downloaded\")\n",
    "        return\n",
    "\n",
    "# Example usage\n",
    "# download_prism_normals(\"800m\", \"tmean\", \"0430\", \"./data\")\n",
    "\n",
    "def unzip_and_move_files(zip_path: str, save_path: str):\n",
    "    \"\"\"\n",
    "    Unzips the file at the given path and moves the contents to the save path.\n",
    "    \n",
    "    Parameters:\n",
    "        zip_path (str): Path to the zip file\n",
    "        save_path (str): Directory where the contents should be saved\n",
    "    \"\"\"\n",
    "    with zipfile.ZipFile(zip_path, 'r') as zip_ref:\n",
    "        zip_ref.extractall(save_path)\n",
    "\n",
    "    # deleter the zip file\n",
    "    os.remove(zip_path)\n",
    "    \n",
    "    print(f\"Unzipped and moved files to: {save_path}\")\n",
    "    return"
   ]
  },
  {
   "cell_type": "code",
   "execution_count": 24,
   "metadata": {},
   "outputs": [
    {
     "name": "stdout",
     "output_type": "stream",
     "text": [
      "PRISM ppt normals already downloaded\n",
      "PRISM ppt normals already downloaded\n"
     ]
    }
   ],
   "source": [
    "# download PRISM normals\n",
    "download_prism_normals(\"800m\", \"ppt\", \"14\", storage_path)\n",
    "download_prism_normals(\"800m\", \"tmean\", \"14\", storage_path)"
   ]
  },
  {
   "cell_type": "code",
   "execution_count": 25,
   "metadata": {},
   "outputs": [],
   "source": [
    "ds = rxr.open_rasterio(storage_path / 'PRISM_800m_annual_normals' / 'PRISM_ppt_30yr_normal_800mM4_annual_bil.bil')"
   ]
  },
  {
   "cell_type": "code",
   "execution_count": 58,
   "metadata": {},
   "outputs": [],
   "source": [
    "basin_name = \"EastRiver\"\n",
    "basin_path = Path(f'/storage/dlhogan/summa_modeling_data/domain_{basin_name}')\n",
    "basin = gpd.read_file(basin_path / f'{basin_name}.shp')\n",
    "basin = basin.to_crs(ds.rio.crs)\n",
    "\n",
    "basin_prism = ds.rio.clip(basin.geometry)\n",
    "mask = basin_prism >= 0 \n",
    "\n",
    "basin_prism_ma = basin_prism.where(mask)\n",
    "\n",
    "# save the data\n",
    "basin_prism_ma.rio.to_raster(basin_path / \"forcing\" / \"01_raw_data\" / f'{basin_name}_PRISM_ppt_30yr_normal_800m.tif')\n"
   ]
  },
  {
   "cell_type": "code",
   "execution_count": 59,
   "metadata": {},
   "outputs": [],
   "source": [
    "# open data observation\n",
    "obs_path = Path('/storage/dlhogan/summa_modeling_data/domain_{basin_name}/forcing/01_raw_data')"
   ]
  },
  {
   "cell_type": "code",
   "execution_count": 60,
   "metadata": {},
   "outputs": [],
   "source": [
    "for f in basin_path.glob('OBS*'):\n",
    "    # get all characters after OBS\n",
    "    obs_name = str(f).split('OBS_')[1][:-4]\n",
    "    # read dataframe and convert to gdf\n",
    "    df = pd.read_csv(f)\n",
    "    df['geometry'] = df['geometry'].apply(wkt.loads)\n",
    "    gdf = gpd.GeoDataFrame(df, geometry='geometry')\n",
    "    # nearest PRISM data location\n",
    "    nearest_prism = basin_prism_ma.squeeze().sel(x=gdf.geometry.x[0], y=gdf.geometry.y[0], method='nearest')\n",
    "    # calculate site weights\n",
    "    site_weights = basin_prism_ma.squeeze()/nearest_prism\n",
    "    # save weights\n",
    "    site_weights.rio.to_raster(basin_path / \"forcing\" / \"01_raw_data\" / f'{basin_name}_PRISM_ppt_30yr_normal_800m_{obs_name}_weights.tif')"
   ]
  }
 ],
 "metadata": {
  "kernelspec": {
   "display_name": "pc_env",
   "language": "python",
   "name": "python3"
  },
  "language_info": {
   "codemirror_mode": {
    "name": "ipython",
    "version": 3
   },
   "file_extension": ".py",
   "mimetype": "text/x-python",
   "name": "python",
   "nbconvert_exporter": "python",
   "pygments_lexer": "ipython3",
   "version": "3.11.0"
  }
 },
 "nbformat": 4,
 "nbformat_minor": 2
}
