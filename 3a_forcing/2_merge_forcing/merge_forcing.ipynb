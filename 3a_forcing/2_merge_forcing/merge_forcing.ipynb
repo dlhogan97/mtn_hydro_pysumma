{
 "cells": [
  {
   "cell_type": "markdown",
   "metadata": {},
   "source": [
    "# Merge Forcing Datasets\n",
    "\n",
    "SUMMA requires 7 input variables to run. These include:\n",
    "- Precipitation rate [kg m-2 s-1]\n",
    "- Downward shortwave radiation at the upper boundary [W m-2]\n",
    "- Downward longwave radiation at the upper boundary [W m-2]\n",
    "- Air pressure at the the measurement height [Pa]\n",
    "- Air temperature at the measurement height [K]\n",
    "- Wind speed at the measurement height [m s-1]\n",
    "- Specific humidity at the measurement height [g g-1]\n",
    "\n",
    "We will gather this data from the following sources:\n",
    "- Precipitation (daily): Stage IV (4km), gridmet (4km), PRISM wieghted normals (800 m)\n",
    "- Downward shortwave radiation (hourly/daily): CERES (downscaled 4km), gridmet (4km)\n",
    "- Downward longwave radiation (hourly): CERES (downscaled 4km)\n",
    "- Surface pressure (hourly): ERA5 (downscaled to 4km and corrected using standard atmosphere)\n",
    "- Air temperature (daily): gridmet (4km)\n",
    "- Wind speed (daily): gridmet (4km)\n",
    "- Specific humidity: gridmet (4km)\n"
   ]
  },
  {
   "cell_type": "code",
   "execution_count": 1,
   "metadata": {},
   "outputs": [],
   "source": [
    "import xarray as xr \n",
    "import matplotlib.pyplot as plt \n",
    "import geopandas as gpd \n",
    "import numpy as np \n",
    "from metpy import units, calc\n",
    "from datetime import datetime\n",
    "from pathlib import Path\n",
    "import pandas as pd\n",
    "from utils.read_files import read_from_control, make_default_path\n"
   ]
  },
  {
   "cell_type": "code",
   "execution_count": 2,
   "metadata": {},
   "outputs": [],
   "source": [
    "# Store the name of the 'active' file in a variable\n",
    "controlFile = 'control_EastRiver.txt'\n",
    "# basin name and outlet gauge id\n",
    "root_path = Path(read_from_control(controlFile, \"root_path\"))\n",
    "basin = read_from_control(controlFile, \"domain_name\")\n",
    "years = [2022, 2023]\n",
    "dates = slice(\"2021-10-01\", \"2023-09-30\")\n",
    "forcing_location = root_path / f\"domain_{basin}\" / \"forcing\" / \"1_raw_data\"\n",
    "dataset_paths = {\n",
    "    \"precipitation\": {\n",
    "        \"stageiv\": forcing_location / \"stageIV\" / f\"stageiv_{basin}_{years[0]}_{years[1]}.nc\",\n",
    "        \"prism_weighted\": \"/path/to/precipitation/prism_weighted\", # not created yet\n",
    "        \"gridmet\": forcing_location / \"gridmet_pr.nc\",\n",
    "        },\n",
    "    \"temperature\": {\n",
    "        \"gridmet\": forcing_location / \"gridmet_tavg.nc\",\n",
    "        },\n",
    "    \"specific_humidity\": {\n",
    "        \"gridmet\": forcing_location / \"gridmet_sph.nc\",\n",
    "        },\n",
    "    \"wind\": {\n",
    "        \"gridmet\": forcing_location / \"gridmet_vs.nc\",\n",
    "        },\n",
    "    \"surface_pressure\": {\n",
    "        \"ERA5\": forcing_location / f\"ERA5_surface_pressure_{basin}_4km_2011_2024.nc\",\n",
    "        },\n",
    "    \"downwelling_sw\":{\n",
    "        \"CERES\": forcing_location / \"broadband_shortwave_down_1h.nc\",\n",
    "        \"gridmet\": forcing_location / \"gridmet_srad.nc\",\n",
    "        },\n",
    "    \"downwelling_lw\":{\n",
    "        \"CERES\": forcing_location / \"broadband_longwave_down_1h.nc\",\n",
    "        },\n",
    "    }"
   ]
  },
  {
   "cell_type": "code",
   "execution_count": 24,
   "metadata": {},
   "outputs": [],
   "source": [
    "precip_ds = xr.open_dataset(dataset_paths[\"precipitation\"][\"gridmet\"])\n",
    "t_ds = xr.open_dataset(dataset_paths[\"temperature\"][\"gridmet\"])\n",
    "sph_ds = xr.open_dataset(dataset_paths[\"specific_humidity\"][\"gridmet\"])\n",
    "wind_ds = xr.open_dataset(dataset_paths[\"wind\"][\"gridmet\"])\n",
    "sp_ds = xr.open_dataarray(dataset_paths[\"surface_pressure\"][\"ERA5\"])\n",
    "sw_ds = xr.open_dataarray(dataset_paths[\"downwelling_sw\"][\"CERES\"])\n",
    "lw_ds = xr.open_dataarray(dataset_paths[\"downwelling_lw\"][\"CERES\"])"
   ]
  },
  {
   "cell_type": "markdown",
   "metadata": {},
   "source": [
    "# Rename dimensions to match"
   ]
  },
  {
   "cell_type": "code",
   "execution_count": 25,
   "metadata": {},
   "outputs": [],
   "source": [
    "# make sure the time dimension is named \"time\" (not \"valid_time\")\n",
    "def rename_dims(ds):\n",
    "    if \"valid_time\" in ds.dims:\n",
    "        ds = ds.rename({\"valid_time\": \"time\"})\n",
    "    if \"lat\" in ds.dims:\n",
    "        ds = ds.rename({\"lat\":\"y\"})\n",
    "    if \"lon\" in ds.dims:\n",
    "        ds = ds.rename({\"lon\":\"x\"})\n",
    "    if \"latitude\" in ds.dims:\n",
    "        ds = ds.rename({\"latitude\":\"y\"})\n",
    "    if \"longitude\" in ds.dims:\n",
    "        ds = ds.rename({\"longitude\":\"x\"})\n",
    "    return ds"
   ]
  },
  {
   "cell_type": "code",
   "execution_count": 26,
   "metadata": {},
   "outputs": [],
   "source": [
    "precip_ds = rename_dims(precip_ds)\n",
    "t_ds = rename_dims(t_ds)\n",
    "sph_ds = rename_dims(sph_ds)\n",
    "wind_ds = rename_dims(wind_ds)\n",
    "sp_ds = rename_dims(sp_ds)\n",
    "sw_ds = rename_dims(sw_ds)\n",
    "lw_ds = rename_dims(lw_ds)"
   ]
  },
  {
   "cell_type": "markdown",
   "metadata": {},
   "source": [
    "# Clip to the same x/y coordinates"
   ]
  },
  {
   "cell_type": "code",
   "execution_count": 27,
   "metadata": {},
   "outputs": [],
   "source": [
    "# make sure dimensions match in the x and y directions. If not, clip to match the smaller domain\n",
    "def clip_to_match(ds1, ds2):\n",
    "    if ds1.sizes[\"x\"] > ds2.sizes[\"x\"]:\n",
    "        ds1 = ds1.isel(x=slice(0, ds2.sizes[\"x\"]))\n",
    "    elif ds1.sizes[\"x\"] < ds2.sizes[\"x\"]:\n",
    "        ds2 = ds2.isel(x=slice(0, ds1.sizes[\"x\"]))\n",
    "    if ds1.sizes[\"y\"] > ds2.sizes[\"y\"]:\n",
    "        ds1 = ds1.isel(y=slice(0, ds2.sizes[\"y\"]))\n",
    "    elif ds1.sizes[\"y\"] < ds2.sizes[\"y\"]:\n",
    "        ds2 = ds2.isel(y=slice(0, ds1.sizes[\"y\"]))\n",
    "    return ds1, ds2"
   ]
  },
  {
   "cell_type": "code",
   "execution_count": 28,
   "metadata": {},
   "outputs": [],
   "source": [
    "precip_ds, t_ds = clip_to_match(precip_ds, t_ds)\n",
    "precip_ds, sph_ds = clip_to_match(precip_ds, sph_ds)\n",
    "precip_ds, wind_ds = clip_to_match(precip_ds, wind_ds)\n",
    "precip_ds, sp_ds = clip_to_match(precip_ds, sp_ds)\n",
    "precip_ds, sw_ds = clip_to_match(precip_ds, sw_ds)\n",
    "precip_ds, lw_ds = clip_to_match(precip_ds, lw_ds)"
   ]
  },
  {
   "cell_type": "code",
   "execution_count": 29,
   "metadata": {},
   "outputs": [],
   "source": [
    "# set all x, y values to precip_ds values\n",
    "def set_coords(ds1, ds2):\n",
    "    ds1 = ds1.assign_coords({\"x\": ds2.x, \"y\": ds2.y})\n",
    "    return ds1"
   ]
  },
  {
   "cell_type": "code",
   "execution_count": 30,
   "metadata": {},
   "outputs": [],
   "source": [
    "t_ds = set_coords(t_ds, precip_ds)\n",
    "sph_ds = set_coords(sph_ds, precip_ds)\n",
    "wind_ds = set_coords(wind_ds, precip_ds)\n",
    "sp_ds = set_coords(sp_ds, precip_ds)\n",
    "sw_ds = set_coords(sw_ds, precip_ds)\n",
    "lw_ds = set_coords(lw_ds, precip_ds)"
   ]
  },
  {
   "cell_type": "markdown",
   "metadata": {},
   "source": [
    "# Calculate daily averages \n",
    "Defined at 7AM to 7PM UTC"
   ]
  },
  {
   "cell_type": "code",
   "execution_count": 31,
   "metadata": {},
   "outputs": [],
   "source": [
    "# now calculate the average over the day where a day is defined from 7 UTC to 7 UTC the next day\n",
    "def daily_average(ds):\n",
    "    # convert to Mountain time\n",
    "    ds['time'] = pd.to_datetime(ds['time'].values).tz_localize('UTC').tz_convert('America/Denver').tz_localize(None)\n",
    "    ds = ds.resample(time=\"1D\").mean(dim=\"time\")\n",
    "    \n",
    "    # drop the tzinfo\n",
    "    ds['time'] = pd.to_datetime(ds['time'].values)\n",
    "    return ds\n",
    "\n",
    "# do this for variables that need it, which include sp_ds, sw_ds, lw_ds\n",
    "sp_ds = daily_average(sp_ds)\n",
    "sw_ds = daily_average(sw_ds)\n",
    "lw_ds = daily_average(lw_ds)"
   ]
  },
  {
   "cell_type": "markdown",
   "metadata": {},
   "source": [
    "# Rename variables of interest"
   ]
  },
  {
   "cell_type": "code",
   "execution_count": 32,
   "metadata": {},
   "outputs": [],
   "source": [
    "ppt = \"pptrate\"\n",
    "t = \"airtemp\"\n",
    "sph = \"spechum\"\n",
    "v = \"windspd\"\n",
    "p = \"airpres\"\n",
    "swd = \"SWRadAtm\"\n",
    "lwd = \"LWRadAtm\"\n",
    "\n",
    "# get the variable names for each dataset\n",
    "current_precip_var = list(precip_ds.keys())[1]\n",
    "current_t_var = list(t_ds.keys())[0]\n",
    "current_sph_var = list(sph_ds.keys())[1]\n",
    "current_wind_var = list(wind_ds.keys())[1]\n",
    "\n",
    "# rename the variables\n",
    "precip_ds = precip_ds.rename({current_precip_var: ppt})\n",
    "t_ds = t_ds.rename({current_t_var: t})\n",
    "sph_ds = sph_ds.rename({current_sph_var: sph})\n",
    "wind_ds = wind_ds.rename({current_wind_var: v})\n",
    "sp_ds.name = p\n",
    "sw_ds.name = swd\n",
    "lw_ds.name = lwd"
   ]
  },
  {
   "cell_type": "markdown",
   "metadata": {},
   "source": [
    "# Convert units"
   ]
  },
  {
   "cell_type": "code",
   "execution_count": 36,
   "metadata": {},
   "outputs": [],
   "source": [
    "# convert to the correct units for the variables\n",
    "# convert to kg/m^2/s for precipitation\n",
    "density_h2o = 1000.0 * units.units.kilogram / units.units.meter**3\n",
    "mm_2_m = 0.001 * units.units.meter / units.units.mm\n",
    "s_in_day = 86400.0 * units.units.second\n",
    "precip_ds[ppt] = precip_ds[ppt] * mm_2_m * density_h2o / s_in_day"
   ]
  },
  {
   "cell_type": "code",
   "execution_count": 37,
   "metadata": {},
   "outputs": [],
   "source": [
    "# convert airpressure to pascals\n",
    "sp_ds = sp_ds * units.units.kilopascal\n",
    "# convert to pascal\n",
    "sp_ds = sp_ds.metpy.convert_units(\"pascal\")"
   ]
  },
  {
   "cell_type": "code",
   "execution_count": 38,
   "metadata": {},
   "outputs": [],
   "source": [
    "# add units to sw_ds and lw_ds\n",
    "sw_ds = sw_ds * units.units.watt / units.units.m**2\n",
    "lw_ds = lw_ds * units.units.watt / units.units.m**2\n",
    "\n",
    "# add imots tp wind \n",
    "wind_ds[v] = wind_ds[v] * units.units.meter / units.units.second\n",
    "\n",
    "# add units to specific humidity\n",
    "sph_ds[sph] = sph_ds[sph] * units.units.gram / units.units.gram"
   ]
  },
  {
   "cell_type": "markdown",
   "metadata": {},
   "source": [
    "# Select the date period of interest"
   ]
  },
  {
   "cell_type": "code",
   "execution_count": 39,
   "metadata": {},
   "outputs": [],
   "source": [
    "# select the dates\n",
    "precip_ds = precip_ds.sel(time=dates)\n",
    "t_ds = t_ds.sel(time=dates)\n",
    "sph_ds = sph_ds.sel(time=dates)\n",
    "wind_ds = wind_ds.sel(time=dates)\n",
    "sp_ds = sp_ds.sel(time=dates)\n",
    "sw_ds = sw_ds.sel(time=dates)\n",
    "lw_ds = lw_ds.sel(time=dates)"
   ]
  },
  {
   "cell_type": "markdown",
   "metadata": {},
   "source": [
    "# Merge the datasets"
   ]
  },
  {
   "cell_type": "code",
   "execution_count": 40,
   "metadata": {},
   "outputs": [],
   "source": [
    "forcing_ds = xr.merge([precip_ds[ppt], \n",
    "                       t_ds[t], \n",
    "                       sph_ds[sph], \n",
    "                       wind_ds[v], \n",
    "                       sp_ds, \n",
    "                       sw_ds, \n",
    "                       lw_ds],\n",
    "                       join='exact')\n",
    "\n",
    "# add a variable data_step to the forcing dataset, which is the time between each timestep in seconds\n",
    "forcing_ds['data_step'] = (forcing_ds.time[1] - forcing_ds.time[0]).values.astype(\"timedelta64[s]\")\n"
   ]
  },
  {
   "cell_type": "code",
   "execution_count": 46,
   "metadata": {},
   "outputs": [],
   "source": [
    "# save netcdf\n",
    "forcing_ds.to_netcdf(root_path / f\"domain_{basin}\" / \"forcing\" / \"2a_merged_data\" / f\"{basin}_forcing_{years[0]}_{years[1]}.nc\")"
   ]
  },
  {
   "cell_type": "markdown",
   "metadata": {},
   "source": [
    "# Example plot"
   ]
  },
  {
   "cell_type": "code",
   "execution_count": 42,
   "metadata": {},
   "outputs": [],
   "source": [
    "gdf = gpd.read_file(root_path / f\"domain_{basin}\" / \"shapefiles\" / \"catchment\" / f\"{basin}.shp\")"
   ]
  },
  {
   "cell_type": "code",
   "execution_count": null,
   "metadata": {},
   "outputs": [
    {
     "data": {
      "text/plain": [
       "<Axes: title={'center': 'time = 2023-01-29'}, xlabel='longitude [degrees_east]', ylabel='latitude [degrees_north]'>"
      ]
     },
     "execution_count": 45,
     "metadata": {},
     "output_type": "execute_result"
    },
    {
     "data": {
      "image/png": "[encoded data removed]",
      "text/plain": [
       "<Figure size 640x480 with 2 Axes>"
      ]
     },
     "metadata": {},
     "output_type": "display_data"
    }
   ],
   "source": [
    "fig, ax = plt.subplots()\n",
    "forcing_ds['pptrate'].sel(time=\"2023-01-29\").plot(ax=ax)\n",
    "gdf.boundary.plot(ax=ax, color=\"black\")\n"
   ]
  },
  {
   "cell_type": "code",
   "execution_count": null,
   "metadata": {},
   "outputs": [],
   "source": []
  }
 ],
 "metadata": {
  "kernelspec": {
   "display_name": "pc_env",
   "language": "python",
   "name": "python3"
  },
  "language_info": {
   "codemirror_mode": {
    "name": "ipython",
    "version": 3
   },
   "file_extension": ".py",
   "mimetype": "text/x-python",
   "name": "python",
   "nbconvert_exporter": "python",
   "pygments_lexer": "ipython3",
   "version": "3.11.0"
  }
 },
 "nbformat": 4,
 "nbformat_minor": 2
}
