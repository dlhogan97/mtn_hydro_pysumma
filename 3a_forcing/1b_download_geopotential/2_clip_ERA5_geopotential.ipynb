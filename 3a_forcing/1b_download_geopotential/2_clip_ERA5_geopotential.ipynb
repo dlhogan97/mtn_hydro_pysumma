{
 "cells": [
  {
   "cell_type": "code",
   "execution_count": 1,
   "metadata": {},
   "outputs": [],
   "source": [
    "import geopandas as gpd \n",
    "from pathlib import Path\n",
    "import xarray as xr\n",
    "import rioxarray as rxr"
   ]
  },
  {
   "cell_type": "code",
   "execution_count": null,
   "metadata": {},
   "outputs": [],
   "source": [
    "from utils.read_files import read_from_control, make_default_path\n",
    "# Store the name of the 'active' file in a variable\n",
    "controlFile = 'control_EastRiver.txt'\n",
    "# basin name and outlet gauge id\n",
    "root_path = Path(read_from_control(controlFile, \"root_path\"))\n",
    "basin = read_from_control(controlFile, \"domain_name\")"
   ]
  },
  {
   "cell_type": "code",
   "execution_count": 20,
   "metadata": {},
   "outputs": [],
   "source": [
    "# open the geopotential data and take the temporal average\n",
    "gph_ds = xr.open_dataset(root_path / \"ERA5_surface_geopotential.nc\").mean(dim=\"valid_time\")['z']\n",
    "# add the crs to the geopotential data\n",
    "gph_ds = gph_ds.rio.write_crs(\"epsg:4326\")"
   ]
  },
  {
   "cell_type": "code",
   "execution_count": 21,
   "metadata": {},
   "outputs": [],
   "source": [
    "# open the basin shapefile\n",
    "basin_gdf = gpd.read_file(root_path / f\"domain_{basin}\" / \"shapefiles\" / \"catchment\" / f\"{basin}.shp\")"
   ]
  },
  {
   "cell_type": "code",
   "execution_count": 22,
   "metadata": {},
   "outputs": [],
   "source": [
    "# clip box the geopotential data to the basin\n",
    "gph_ds_clipped = gph_ds.rio.clip_box(basin_gdf.total_bounds[0], basin_gdf.total_bounds[1], basin_gdf.total_bounds[2], basin_gdf.total_bounds[3])"
   ]
  },
  {
   "cell_type": "code",
   "execution_count": 23,
   "metadata": {},
   "outputs": [],
   "source": [
    "gravity = 9.80665 # m/s^2\n",
    "\n",
    "# calculate the geopotential height\n",
    "gph_height = gph_ds_clipped / gravity\n",
    "\n",
    "# add units\n",
    "gph_height.attrs['units'] = 'm'"
   ]
  },
  {
   "cell_type": "code",
   "execution_count": 24,
   "metadata": {},
   "outputs": [],
   "source": [
    "# save the geopotential height data\n",
    "gph_height.to_netcdf(root_path / f\"domain_{basin}\" / \"forcing\" / \"0_geopotential\" / f\"ERA5_surface_geopotential_height_{basin}.nc\")"
   ]
  }
 ],
 "metadata": {
  "kernelspec": {
   "display_name": "pc_env",
   "language": "python",
   "name": "python3"
  },
  "language_info": {
   "codemirror_mode": {
    "name": "ipython",
    "version": 3
   },
   "file_extension": ".py",
   "mimetype": "text/x-python",
   "name": "python",
   "nbconvert_exporter": "python",
   "pygments_lexer": "ipython3",
   "version": "3.11.0"
  }
 },
 "nbformat": 4,
 "nbformat_minor": 2
}
