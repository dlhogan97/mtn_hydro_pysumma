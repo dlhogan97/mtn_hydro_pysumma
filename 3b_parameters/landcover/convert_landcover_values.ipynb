{
 "cells": [
  {
   "cell_type": "code",
   "execution_count": 8,
   "metadata": {},
   "outputs": [],
   "source": [
    "import os\n",
    "from pathlib import Path\n",
    "from shutil import copyfile\n",
    "from datetime import datetime\n",
    "import pygeohydro as gh\n",
    "import pygeoutils as geoutils\n",
    "from pynhd import NLDI\n",
    "from utils.read_files import read_from_control, make_default_path\n",
    "import geopandas as gpd\n",
    "import numpy as np\n",
    "import xarray as xr\n",
    "import rioxarray as rxr\n",
    "import scipy.stats as sc"
   ]
  },
  {
   "cell_type": "code",
   "execution_count": 2,
   "metadata": {},
   "outputs": [],
   "source": [
    "# Store the name of the 'active' file in a variable\n",
    "controlFile = 'control_EastRiver.txt'"
   ]
  },
  {
   "cell_type": "code",
   "execution_count": 3,
   "metadata": {},
   "outputs": [],
   "source": [
    "# Forcing shapefile path & name\n",
    "land_path = read_from_control(controlFile,'parameter_land_mode_path')\n",
    "land_name = read_from_control(controlFile,'parameter_land_tif_name')"
   ]
  },
  {
   "cell_type": "code",
   "execution_count": 4,
   "metadata": {},
   "outputs": [],
   "source": [
    "# Specify default path if needed\n",
    "if land_path == 'default':\n",
    "    land_path = make_default_path('parameters/landclass/', controlFile) # outputs a Path()\n",
    "else:\n",
    "    land_path = Path(land_path) # make sure a user-specified path is a Path()"
   ]
  },
  {
   "cell_type": "code",
   "execution_count": 7,
   "metadata": {},
   "outputs": [],
   "source": [
    "nlcd_to_modis = {\n",
    "    11: 14,  # Open Water → Open Water\n",
    "    12: 13,  # Perennial Ice/Snow → Barren\n",
    "    21: 12,  # Developed, Open Space → Urban and Built-Up\n",
    "    22: 12,  # Developed, Low Intensity → Urban and Built-Up\n",
    "    23: 12,  # Developed, Medium Intensity → Urban and Built-Up\n",
    "    24: 12,  # Developed, High Intensity → Urban and Built-Up\n",
    "    31: 13,  # Barren Land (Rock/Sand/Clay) → Barren\n",
    "    41: 5,   # Deciduous Forest → Mixed Forest\n",
    "    42: 1,   # Evergreen Forest → Evergreen Needleleaf Forest\n",
    "    43: 5,   # Mixed Forest → Mixed Forest\n",
    "    52: 6,   # Shrub/Scrub → Shrubland\n",
    "    71: 7,   # Grassland/Herbaceous → Grassland\n",
    "    81: 10,  # Pasture/Hay → Pasture\n",
    "    82: 11,  # Cultivated Crops → Croplands\n",
    "    90: 9,   # Woody Wetlands → Emergent Herbaceous Wetlands\n",
    "    95: 8    # Emergent Herbaceous Wetlands → Woody Wetlands\n",
    "}"
   ]
  },
  {
   "cell_type": "code",
   "execution_count": 16,
   "metadata": {},
   "outputs": [],
   "source": [
    "# open the nlcd file using rioxarray\n",
    "nlcd = rxr.open_rasterio(land_path / land_name)\n",
    "# \n",
    "# Apply mapping using xarray where method\n",
    "modis_da = nlcd.copy()\n",
    "for nlcd_value, modis_value in nlcd_to_modis.items():\n",
    "    modis_da = modis_da.where(nlcd != nlcd_value, modis_value)"
   ]
  },
  {
   "cell_type": "code",
   "execution_count": 20,
   "metadata": {},
   "outputs": [],
   "source": [
    "# Save the modified raster\n",
    "modis_da.rio.to_raster(land_path / 'landclass_usgs.tif')"
   ]
  }
 ],
 "metadata": {
  "kernelspec": {
   "display_name": "pc_env",
   "language": "python",
   "name": "python3"
  },
  "language_info": {
   "codemirror_mode": {
    "name": "ipython",
    "version": 3
   },
   "file_extension": ".py",
   "mimetype": "text/x-python",
   "name": "python",
   "nbconvert_exporter": "python",
   "pygments_lexer": "ipython3",
   "version": "3.11.0"
  }
 },
 "nbformat": 4,
 "nbformat_minor": 2
}
