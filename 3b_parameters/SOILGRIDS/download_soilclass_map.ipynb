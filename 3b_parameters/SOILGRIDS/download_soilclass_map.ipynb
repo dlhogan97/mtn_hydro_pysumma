{
 "cells": [
  {
   "cell_type": "markdown",
   "metadata": {},
   "source": [
    "# Download SOILGRIDS-derived soil texture class map\n",
    "SOILGRIDS data (Hengl et al., 2017) showing global sand, silt and clay percentages have been downloaded and processed into a global map of USDA soil texture classes. See: https://www.hydroshare.org/resource/1361509511e44adfba814f6950c6e742/\n",
    "\n",
    "This script downloads and unpacks this global map.\n"
   ]
  },
  {
   "cell_type": "code",
   "execution_count": 1,
   "metadata": {},
   "outputs": [],
   "source": [
    "import os\n",
    "from pathlib import Path\n",
    "from shutil import copyfile\n",
    "from datetime import datetime\n",
    "import pygeohydro as gh\n",
    "import pygeoutils as geoutils\n",
    "from pynhd import NLDI\n",
    "from utils.read_files import read_from_control, make_default_path\n",
    "import geopandas as gpd\n",
    "import numpy as np\n",
    "import xarray as xr\n",
    "import scipy.stats as sc"
   ]
  },
  {
   "cell_type": "markdown",
   "metadata": {},
   "source": [
    "#### Control file handling"
   ]
  },
  {
   "cell_type": "code",
   "execution_count": 6,
   "metadata": {},
   "outputs": [],
   "source": [
    "# Store the name of the 'active' file in a variable\n",
    "basin = 'TuolumneRiver'\n",
    "controlFile = f'control_{basin}.txt'"
   ]
  },
  {
   "cell_type": "markdown",
   "metadata": {},
   "source": [
    "#### Access shapefile geometry"
   ]
  },
  {
   "cell_type": "code",
   "execution_count": 7,
   "metadata": {},
   "outputs": [],
   "source": [
    "basin_path = read_from_control(controlFile, 'catchment_shp_path')\n",
    "\n",
    "# Specify the default paths if required \n",
    "if basin_path == 'default':\n",
    "    basin_path = make_default_path('shapefiles/catchment', controlFile) # outputs a Path()\n",
    "else:\n",
    "    basin_path = Path(basin_path) # make sure a user-specified path is a Path()\n",
    "\n",
    "basin_name = f\"{basin}.shp\""
   ]
  },
  {
   "cell_type": "code",
   "execution_count": 8,
   "metadata": {},
   "outputs": [],
   "source": [
    "basin_shp = gpd.read_file(basin_path / basin_name)"
   ]
  },
  {
   "cell_type": "markdown",
   "metadata": {},
   "source": [
    "#### Find where to save the raw data"
   ]
  },
  {
   "cell_type": "code",
   "execution_count": 9,
   "metadata": {},
   "outputs": [],
   "source": [
    "# Find the path where the raw soil maps need to go\n",
    "soil_raw_path = read_from_control(controlFile,'parameter_soil_raw_path')\n",
    "\n",
    "# Specify the default paths if required \n",
    "if soil_raw_path == 'default':\n",
    "    soil_raw_path = make_default_path('parameters/soilclass/1_soil_classes_global', controlFile) # outputs a Path()\n",
    "else:\n",
    "    soil_raw_path = Path(soil_raw_path) # make sure a user-specified path is a Path()\n",
    "\n",
    "# Make the folder if it doesn't exist\n",
    "soil_raw_path.mkdir(parents=True, exist_ok=True)"
   ]
  },
  {
   "cell_type": "markdown",
   "metadata": {},
   "source": [
    "#### Find the path where the subset soil map need to go"
   ]
  },
  {
   "cell_type": "code",
   "execution_count": 10,
   "metadata": {},
   "outputs": [],
   "source": [
    "# Find the path where the subset soil map need to go\n",
    "soil_domain_path = read_from_control(controlFile,'parameter_soil_domain_path')\n",
    "soil_domain_name = read_from_control(controlFile,'parameter_soil_tif_name')\n",
    "\n",
    "# Specify the default paths if required \n",
    "if soil_domain_path == 'default':\n",
    "    soil_domain_path = make_default_path('parameters/soilclass/2_soil_classes_domain', controlFile) # outputs a Path()\n",
    "else:\n",
    "    soil_domain_path = Path(soil_domain_path) # make sure a user-specified path is a Path()\n",
    "\n",
    "    # Make the folder if it doesn't exist\n",
    "soil_domain_path.mkdir(parents=True, exist_ok=True)"
   ]
  },
  {
   "cell_type": "markdown",
   "metadata": {},
   "source": [
    "#### Download the data"
   ]
  },
  {
   "cell_type": "code",
   "execution_count": 11,
   "metadata": {},
   "outputs": [],
   "source": [
    "def generate_variable_list():\n",
    "    # prefixes = [\"bdod\", \"cec\", \"cfvo\", \"clay\", \"nitrogen\", \"ocd\", \"ocs\", \"phh2o\", \"sand\", \"silt\", \"soc\"]\n",
    "    prefixes = [\"sand\", \"silt\", \"clay\"]\n",
    "    depths = [5, 15, 30, 60, 100, 200]\n",
    "    \n",
    "    variables = [f\"{prefix}_{depth}\" for prefix in prefixes for depth in depths]\n",
    "    return variables\n",
    "\n",
    "# Example usage\n",
    "variable_list = generate_variable_list()"
   ]
  },
  {
   "cell_type": "code",
   "execution_count": 12,
   "metadata": {},
   "outputs": [],
   "source": [
    "if not os.path.exists(soil_raw_path / \"raw_soil_properties.nc\"):\n",
    "    soil_ds = gh.soil_soilgrids(layers=variable_list, geometry=basin_shp.geometry[0])\n",
    "    # save soil_ds to netcdf\n",
    "    soil_ds.to_netcdf(soil_raw_path / \"raw_soil_properties.nc\")\n",
    "else:\n",
    "    soil_ds = xr.open_dataset(soil_raw_path / \"raw_soil_properties.nc\")"
   ]
  },
  {
   "cell_type": "code",
   "execution_count": 13,
   "metadata": {},
   "outputs": [],
   "source": [
    "# Developed from https://www.hydroshare.org/resource/1361509511e44adfba814f6950c6e742/\n",
    "# Takes sand/silt/clay percentage and returns USDA soil class\n",
    "def find_usda_soilclass(sand,silt,clay,no_data_value):\n",
    "    \n",
    "    # Based on Benham et al., 2009 and matching the following soil class table:\n",
    "    # SUMMA-ROSETTA-STAS-RUC soil parameter table\n",
    "    # 1  'CLAY' \n",
    "    # 2  'CLAY LOAM'\n",
    "    # 3  'LOAM' \n",
    "    # 4  'LOAMY SAND'\n",
    "    # 5  'SAND'\n",
    "    # 6  'SANDY CLAY'\n",
    "    # 7  'SANDY CLAY LOAM'\n",
    "    # 8  'SANDY LOAM'\n",
    "    # 9  'SILT'\n",
    "    # 10 'SILTY CLAY'\n",
    "    # 11 'SILTY CLAY LOAM'\n",
    "    # 12 'SILT LOAM'\n",
    "\n",
    "    # Initialize a results array\n",
    "    soilclass = xr.zeros_like(sand)\n",
    "    \n",
    "    # Legend\n",
    "    soiltype = ['clay','clay loam','loam','loamy sand','sand','sandy clay','sandy clay loam','sandy loam','silt','silty clay','silty clay loam','silt loam']\n",
    "    \n",
    "    # Apply conditions in reverse order to ensure proper classification\n",
    "    soilclass = xr.where((sand == no_data_value) | (silt == no_data_value) | (clay == no_data_value), 0, soilclass)\n",
    "    soilclass = xr.where(((silt >= 50) & (clay >= 12) & (clay < 27)) | ((silt >= 50) & (silt < 80) & (clay < 12)), 12, soilclass)\n",
    "    soilclass = xr.where((clay >= 27) & (clay < 40) & (sand <= 20), 11, soilclass)\n",
    "    soilclass = xr.where((clay >= 40) & (silt >= 40), 10, soilclass)\n",
    "    soilclass = xr.where((silt >= 80) & (clay < 12), 9, soilclass)\n",
    "    soilclass = xr.where(((clay >= 7) & (clay < 20) & (sand > 52) & ((silt + 2 * clay) >= 30)) | ((clay < 7) & (silt < 50) & ((silt + 2 * clay) >= 30)), 8, soilclass)\n",
    "    soilclass = xr.where((clay >= 20) & (clay < 35) & (silt < 28) & (sand > 45), 7, soilclass)\n",
    "    soilclass = xr.where((clay >= 35) & (sand > 45), 6, soilclass)\n",
    "    soilclass = xr.where(((silt + 1.5 * clay) < 15), 5, soilclass)\n",
    "    soilclass = xr.where(((silt + 1.5 * clay) >= 15) & ((silt + 2 * clay) < 30), 4, soilclass)\n",
    "    soilclass = xr.where((clay >= 7) & (clay < 27) & (silt >= 28) & (silt < 50) & (sand < 52), 3, soilclass)\n",
    "    soilclass = xr.where((clay >= 27) & (clay < 40) & (sand > 20) & (sand <= 45), 2, soilclass)\n",
    "    soilclass = xr.where((clay >= 40) & (sand <= 45) & (silt < 40), 1, soilclass)\n",
    "    \n",
    "    return soilclass, soiltype"
   ]
  },
  {
   "cell_type": "code",
   "execution_count": 14,
   "metadata": {},
   "outputs": [],
   "source": [
    "# For the specified soil depth ...\n",
    "# Explicitly create the path\n",
    "clay_vars = [var for var in list(soil_ds.keys()) if 'clay' in var]\n",
    "sand_vars = [var for var in list(soil_ds.keys()) if 'sand' in var]\n",
    "silt_vars = [var for var in list(soil_ds.keys()) if 'silt' in var]\n",
    "\n",
    "# Get the geotif bands that contain sand/silt/clay and their coordinates\n",
    "sand = soil_ds[sand_vars]\n",
    "sand = sand.rename(dict(zip(sand_vars, [v.replace('sand_','') for v in sand_vars])))\n",
    "silt = soil_ds[silt_vars]\n",
    "silt = silt.rename(dict(zip(silt_vars, [v.replace('silt_','') for v in silt_vars])))\n",
    "clay = soil_ds[clay_vars]\n",
    "clay = clay.rename(dict(zip(clay_vars, [v.replace('clay_','') for v in clay_vars])))\n",
    "\n",
    "# Specify the 'no data value' \n",
    "\n",
    "# Compare sand/silt/clay % to USDA soil triangle and assign soil class\n",
    "soilclass,_ = find_usda_soilclass(sand,silt,clay,np.nan)"
   ]
  },
  {
   "cell_type": "code",
   "execution_count": 15,
   "metadata": {},
   "outputs": [],
   "source": [
    "# Extract mode\n",
    "# Stack variables into a new dimension\n",
    "stacked = xr.concat([soilclass[var] for var in soilclass.data_vars], dim=\"var\")\n",
    "stacked.name = \"soilclass_mode\""
   ]
  },
  {
   "cell_type": "code",
   "execution_count": 16,
   "metadata": {},
   "outputs": [],
   "source": [
    "# Compute mode along the \"var\" dimension\n",
    "mode_result = sc.mode(stacked, axis=0, keepdims=True)"
   ]
  },
  {
   "cell_type": "code",
   "execution_count": 17,
   "metadata": {},
   "outputs": [],
   "source": [
    "# Extract mode values\n",
    "mode_array = xr.DataArray(mode_result.mode.squeeze(), coords=soilclass.coords)\n",
    "# write the crs and convert to match basin_shp\n",
    "mode_array = mode_array.rio.write_crs(soil_ds.rio.crs.to_string())\n",
    "mode_array = mode_array.rio.reproject(basin_shp.crs)\n",
    "# fillna with 0\n",
    "mode_array = mode_array.fillna(0)"
   ]
  },
  {
   "cell_type": "code",
   "execution_count": 18,
   "metadata": {},
   "outputs": [],
   "source": [
    "# Save resulting soil class file as a new .tif, using an existing one as template\n",
    "soilclass_file = soil_domain_path / soil_domain_name\n",
    "# save to tif\n",
    "mode_array.rio.to_raster(soilclass_file)"
   ]
  }
 ],
 "metadata": {
  "kernelspec": {
   "display_name": "pc_env",
   "language": "python",
   "name": "python3"
  },
  "language_info": {
   "codemirror_mode": {
    "name": "ipython",
    "version": 3
   },
   "file_extension": ".py",
   "mimetype": "text/x-python",
   "name": "python",
   "nbconvert_exporter": "python",
   "pygments_lexer": "ipython3",
   "version": "3.11.0"
  }
 },
 "nbformat": 4,
 "nbformat_minor": 4
}
