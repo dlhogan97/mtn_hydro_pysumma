{
 "cells": [
  {
   "cell_type": "markdown",
   "metadata": {},
   "source": [
    "# Initialize attributes.nc\n",
    "Create attributes.nc file. This needs (https://summa.readthedocs.io/en/master/input_output/SUMMA_input/):\n",
    "\n",
    "| Variable       | dimension | type   | units                | long name                                 | notes                                                                                                                                                                                         |\n",
    "|:----------------|:-----------|:--------|:----------------------|:-------------------------------------------|:-----------------------------------------------------------------------------------------------------------------------------------------------------------------------------------------------|\n",
    "| hruId          | hru       | int    | -                    | Index of hydrological response unit (HRU) | Unique numeric ID for each HRU|\n",
    "| gruId          | gru       | int    | -                    | Index of grouped response unit (GRU)      | Unique numeric ID for each GRU                                                                                                                                                                |\n",
    "| hru2gruId      | hru       | int    | -                    | Index of GRU to which the HRU belongs     | gruId of the GRU to which the HRU belongs                                                                                                                                                     |\n",
    "| downHRUindex   | hru       | int    | -                    | Index of downslope HRU (0 = basin outlet) | Downslope HRU must be within the same GRU. If the value is 0, then  there is no exchange to a neighboring HRU. Setting this value to 0 for  all HRUs emulates a series of independent columns |\n",
    "| longitude      | hru       | double | Decimal degree east  | Longitude of HRU's centroid               | West is negative or greater than 180                                                                                                                                                          |\n",
    "| latitude       | hru       | double | Decimal degree north | Latitude of HRU's centroid                | South is negative                                                                                                                                                                             |\n",
    "| elevation      | hru       | double | m                    | Elevation of HRU's centroid               |                                                                                                                                                                                               |\n",
    "| HRUarea        | hru       | double | m^2                  | Area of HRU                               |                                                                                                                                                                                               |\n",
    "| tan_slope      | hru       | double | m m-1                | Average tangent slope of HRU              |                                                                                                                                                                                               |\n",
    "| contourLength  | hru       | double | m                    | Contour length of HRU                     | Width of a hillslope (m) parallel to a stream. Used in groundwatr.f90                                                                                                                         |\n",
    "| slopeTypeIndex | hru       | int    | -                    | Index defining slope                      |                                                                                                                                                                                               |\n",
    "| soilTypeIndex  | hru       | int    | -                    | Index defining soil type                  |                                                                                                                                                                                               |\n",
    "| vegTypeIndex   | hru       | int    | -                    | Index defining vegetation type            |                                                                                                                                                                                               |\n",
    "| mHeight        | hru       | double | m                    | Measurement height above bare ground      |                                                                                                                                                                                            |\n",
    "\n",
    "## Note on HRU order\n",
    "HRU order must be the same in forcing, attributes, initial conditions and trial parameter files. Order will be taken from forcing files to ensure consistency.\n",
    "\n",
    "## Fill values\n",
    "| Variable       | Value |\n",
    "|:---------------|:------|\n",
    "| hruId          | taken from the shapefile index values |\n",
    "| gruId          | same as hruId, because in this setup HRU and GRU map 1:1 |\n",
    "| hru2gruId      | same as hruId |\n",
    "| downHRUindex   | 0, each HRU is independent column |\n",
    "| longitude      | taken from the shapefile geometry |\n",
    "| latitude       | taken from the shapefile geometry |\n",
    "| elevation      | placeholder value -999, fill from the MERIT Hydro DEM |\n",
    "| HRUarea        | taken from the shapefile attributes |\n",
    "| tan_slope      | unused in current set up, fixed at 0.1 [-] |\n",
    "| contourLength  | unused in current set up, fixed at 30 [m] |\n",
    "| slopeTypeIndex | unused in current set up, fixed at 1 [-] |\n",
    "| soilTypeIndex  | placeholder value -999, fill from SOILGRIDS |\n",
    "| vegTypeIndex   | placeholder value -999, fill from MODIS veg |\n",
    "| mHeight        | temporarily set at 3 [m] |\n",
    "\n",
    "## Assumed modeling decisions\n",
    "Note that options:\n",
    "- tan_slope\n",
    "- contourLength\n",
    "- slopeTypeIndex \n",
    "\n",
    "are not set to correct values. `slopeTypeIndex` is a legacy variable that is no longer used. `tan_slope` and `contourLength` are needed for the `qbaseTopmodel` modeling option. These require significant preprocessing of geospatial data and are not yet implemented as part of this workflow.\n",
    "\n",
    "`downHRUindex` is set to 0, indicating that each HRU will be modeled as an independent column. This can optionally be changed by setting the flag `settings_summa_connect_HRUs` to `yes` in the control file. The notebook that populates the attributes `.nc` file with elevation will in that case also use the relative elevations of HRUs in each GRU to define downslope HRU IDs."
   ]
  },
  {
   "cell_type": "code",
   "execution_count": 1,
   "metadata": {},
   "outputs": [],
   "source": [
    "# modules\n",
    "import os\n",
    "import pandas as pd\n",
    "import xarray as xr\n",
    "import netCDF4 as nc4\n",
    "import geopandas as gpd\n",
    "from pathlib import Path\n",
    "from shutil import copyfile\n",
    "from datetime import datetime\n",
    "from utils.read_files import read_from_control, make_default_path"
   ]
  },
  {
   "cell_type": "markdown",
   "metadata": {},
   "source": [
    "#### Control file handling"
   ]
  },
  {
   "cell_type": "code",
   "execution_count": 2,
   "metadata": {},
   "outputs": [],
   "source": [
    "# Store the name of the 'active' file in a variable\n",
    "controlFile = 'control_EastRiver.txt'"
   ]
  },
  {
   "cell_type": "markdown",
   "metadata": {},
   "source": [
    "#### Find shapefile location and name"
   ]
  },
  {
   "cell_type": "code",
   "execution_count": 3,
   "metadata": {},
   "outputs": [],
   "source": [
    "# Catchment shapefile path & name\n",
    "catchment_path = read_from_control(controlFile,'catchment_shp_path')\n",
    "catchment_name = read_from_control(controlFile,'catchment_shp_name')"
   ]
  },
  {
   "cell_type": "code",
   "execution_count": 4,
   "metadata": {},
   "outputs": [],
   "source": [
    "# Specify default path if needed\n",
    "if catchment_path == 'default':\n",
    "    catchment_path = make_default_path('shapefiles/catchment', controlFile) # outputs a Path()\n",
    "else:\n",
    "    catchment_path = Path(catchment_path) # make sure a user-specified path is a Path()\""
   ]
  },
  {
   "cell_type": "code",
   "execution_count": 5,
   "metadata": {},
   "outputs": [],
   "source": [
    "# Variable names used in shapefile\n",
    "catchment_hruId_var = read_from_control(controlFile,'catchment_shp_hruid')\n",
    "catchment_gruId_var = read_from_control(controlFile,'catchment_shp_gruid')\n",
    "catchment_area_var = read_from_control(controlFile,'catchment_shp_area')\n",
    "catchment_lat_var = read_from_control(controlFile,'catchment_shp_lat')\n",
    "catchment_lon_var = read_from_control(controlFile,'catchment_shp_lon')"
   ]
  },
  {
   "cell_type": "markdown",
   "metadata": {},
   "source": [
    "#### Find forcing location and an example file"
   ]
  },
  {
   "cell_type": "code",
   "execution_count": 6,
   "metadata": {},
   "outputs": [],
   "source": [
    "# Forcing path\n",
    "forcing_path = read_from_control(controlFile,'forcing_summa_path')"
   ]
  },
  {
   "cell_type": "code",
   "execution_count": 7,
   "metadata": {},
   "outputs": [],
   "source": [
    "# Specify default path if needed\n",
    "if forcing_path == 'default':\n",
    "    forcing_path = make_default_path('forcing/4_SUMMA_input', controlFile) # outputs a Path()\n",
    "else:\n",
    "    forcing_path = Path(forcing_path) # make sure a user-specified path is a Path()"
   ]
  },
  {
   "cell_type": "code",
   "execution_count": 8,
   "metadata": {},
   "outputs": [],
   "source": [
    "# Find a list of forcing files\n",
    "_,_,forcing_files = next(os.walk(forcing_path))"
   ]
  },
  {
   "cell_type": "code",
   "execution_count": 9,
   "metadata": {},
   "outputs": [],
   "source": [
    "# Select a random file as a template for hruId order\n",
    "forcing_name = forcing_files[0]"
   ]
  },
  {
   "cell_type": "code",
   "execution_count": 10,
   "metadata": {},
   "outputs": [],
   "source": [
    "# Find the forcing measurement height\n",
    "forcing_measurement_height = float(read_from_control(controlFile,'forcing_measurement_height'))"
   ]
  },
  {
   "cell_type": "markdown",
   "metadata": {},
   "source": [
    "#### Find where the attributes need to go"
   ]
  },
  {
   "cell_type": "code",
   "execution_count": 11,
   "metadata": {},
   "outputs": [],
   "source": [
    "# Attribute path & name\n",
    "attribute_path = read_from_control(controlFile,'settings_summa_path')\n",
    "attribute_name = read_from_control(controlFile,'settings_summa_attributes')"
   ]
  },
  {
   "cell_type": "code",
   "execution_count": 12,
   "metadata": {},
   "outputs": [],
   "source": [
    "# Specify default path if needed\n",
    "if attribute_path == 'default':\n",
    "    attribute_path = make_default_path('settings/SUMMA', controlFile) # outputs a Path()\n",
    "else:\n",
    "    attribute_path = Path(attribute_path) # make sure a user-specified path is a Path()"
   ]
  },
  {
   "cell_type": "code",
   "execution_count": 13,
   "metadata": {},
   "outputs": [],
   "source": [
    "# Make the folder if it doesn't exist\n",
    "attribute_path.mkdir(parents=True, exist_ok=True)"
   ]
  },
  {
   "cell_type": "markdown",
   "metadata": {},
   "source": [
    "#### Load the catchment shapefile and sort it based on HRU order in the forcing file"
   ]
  },
  {
   "cell_type": "code",
   "execution_count": 14,
   "metadata": {},
   "outputs": [],
   "source": [
    "# Open the catchment shapefile\n",
    "shp = gpd.read_file(catchment_path/catchment_name)"
   ]
  },
  {
   "cell_type": "code",
   "execution_count": 15,
   "metadata": {},
   "outputs": [],
   "source": [
    "# Open the forcing file\n",
    "forc = xr.open_dataset(forcing_path/forcing_name)"
   ]
  },
  {
   "cell_type": "code",
   "execution_count": 16,
   "metadata": {},
   "outputs": [],
   "source": [
    "# Get the sorting order from the forcing file\n",
    "forcing_hruIds = forc['hruId'].values.astype(int) # 'hruId' is prescribed by SUMMA so this variable must exist"
   ]
  },
  {
   "cell_type": "code",
   "execution_count": 17,
   "metadata": {},
   "outputs": [],
   "source": [
    "# Make the hruId variable in the shapefile the index\n",
    "shp = shp.set_index(catchment_hruId_var)"
   ]
  },
  {
   "cell_type": "code",
   "execution_count": 18,
   "metadata": {},
   "outputs": [],
   "source": [
    "# Enforce index as integers\n",
    "shp.index = shp.index.astype(int)"
   ]
  },
  {
   "cell_type": "code",
   "execution_count": 19,
   "metadata": {},
   "outputs": [],
   "source": [
    "# Sort the shape based on the forcing HRU order\n",
    "shp = shp.loc[forcing_hruIds]"
   ]
  },
  {
   "cell_type": "code",
   "execution_count": 20,
   "metadata": {},
   "outputs": [],
   "source": [
    "# Reset the index so that we reference each row properly in later code\n",
    "shp = shp.reset_index()"
   ]
  },
  {
   "cell_type": "markdown",
   "metadata": {},
   "source": [
    "#### Find number of GRUs and HRUs"
   ]
  },
  {
   "cell_type": "code",
   "execution_count": 21,
   "metadata": {},
   "outputs": [
    {
     "name": "stdout",
     "output_type": "stream",
     "text": [
      "Number of HRUs: 3\n",
      "Number of GRUs: 1\n"
     ]
    }
   ],
   "source": [
    "# Extract HRU IDs and count unique occurence (should be equal to length of shapefile)\n",
    "hru_ids = pd.unique(shp[catchment_hruId_var].values)\n",
    "num_hru = len(hru_ids)\n",
    "\n",
    "gru_ids = pd.unique(shp[catchment_gruId_var].values)\n",
    "num_gru = len(gru_ids)\n",
    "\n",
    "print(f'Number of HRUs: {num_hru}')\n",
    "print(f'Number of GRUs: {num_gru}')"
   ]
  },
  {
   "cell_type": "markdown",
   "metadata": {},
   "source": [
    "#### Create the new attributes file"
   ]
  },
  {
   "cell_type": "code",
   "execution_count": 22,
   "metadata": {},
   "outputs": [
    {
     "name": "stdout",
     "output_type": "stream",
     "text": [
      "1 out of 3 HRUs completed.\n",
      "2 out of 3 HRUs completed.\n",
      "3 out of 3 HRUs completed.\n"
     ]
    }
   ],
   "source": [
    "# Create the new .nc file\n",
    "with nc4.Dataset(attribute_path/attribute_name, \"w\", format=\"NETCDF4\") as att:\n",
    "    \n",
    "    # General attributes\n",
    "    now = datetime.now()\n",
    "    att.setncattr('Author', \"Created by SUMMA workflow scripts\")\n",
    "    att.setncattr('History','Created ' + now.strftime('%Y/%m/%d %H:%M:%S'))\n",
    "\n",
    "    # Define the dimensions \n",
    "    att.createDimension('hru',num_hru)\n",
    "    att.createDimension('gru',num_gru)\n",
    "    \n",
    "    # Define the variables\n",
    "    var = 'hruId'\n",
    "    att.createVariable(var, 'i4', 'hru', fill_value = False)\n",
    "    att[var].setncattr('units', '-')\n",
    "    att[var].setncattr('long_name', 'Index of hydrological response unit (HRU)')\n",
    "    \n",
    "    var = 'gruId'\n",
    "    att.createVariable(var, 'i4', 'gru', fill_value = False)\n",
    "    att[var].setncattr('units', '-')\n",
    "    att[var].setncattr('long_name', 'Index of grouped response unit (GRU)')\n",
    "    \n",
    "    var = 'hru2gruId'\n",
    "    att.createVariable(var, 'i4', 'hru', fill_value = False)\n",
    "    att[var].setncattr('units', '-')\n",
    "    att[var].setncattr('long_name', 'Index of GRU to which the HRU belongs')\n",
    "    \n",
    "    var = 'downHRUindex'\n",
    "    att.createVariable(var, 'i4', 'hru', fill_value = False)\n",
    "    att[var].setncattr('units', '-')\n",
    "    att[var].setncattr('long_name', 'Index of downslope HRU (0 = basin outlet)')\n",
    "    \n",
    "    var = 'longitude'\n",
    "    att.createVariable(var, 'f8', 'hru', fill_value = False)\n",
    "    att[var].setncattr('units', 'Decimal degree east')\n",
    "    att[var].setncattr('long_name', 'Longitude of HRU''s centroid')\n",
    "    \n",
    "    var = 'latitude'\n",
    "    att.createVariable(var, 'f8', 'hru', fill_value = False)\n",
    "    att[var].setncattr('units', 'Decimal degree north')\n",
    "    att[var].setncattr('long_name', 'Latitude of HRU''s centroid')\n",
    "    \n",
    "    var = 'elevation'\n",
    "    att.createVariable(var, 'f8', 'hru', fill_value = False)\n",
    "    att[var].setncattr('units', 'm')\n",
    "    att[var].setncattr('long_name', 'Mean HRU elevation')\n",
    "    \n",
    "    var = 'HRUarea'\n",
    "    att.createVariable(var, 'f8', 'hru', fill_value = False)\n",
    "    att[var].setncattr('units', 'm^2')\n",
    "    att[var].setncattr('long_name', 'Area of HRU')\n",
    "    \n",
    "    var = 'tan_slope'\n",
    "    att.createVariable(var, 'f8', 'hru', fill_value = False)\n",
    "    att[var].setncattr('units', 'm m-1')\n",
    "    att[var].setncattr('long_name', 'Average tangent slope of HRU')\n",
    "    \n",
    "    var = 'contourLength'\n",
    "    att.createVariable(var, 'f8', 'hru', fill_value = False)\n",
    "    att[var].setncattr('units', 'm')\n",
    "    att[var].setncattr('long_name', 'Contour length of HRU')\n",
    "    \n",
    "    var = 'slopeTypeIndex'\n",
    "    att.createVariable(var, 'i4', 'hru', fill_value = False)\n",
    "    att[var].setncattr('units', '-')\n",
    "    att[var].setncattr('long_name', 'Index defining slope')\n",
    "    \n",
    "    var = 'soilTypeIndex'\n",
    "    att.createVariable(var, 'i4', 'hru', fill_value = False)\n",
    "    att[var].setncattr('units', '-')\n",
    "    att[var].setncattr('long_name', 'Index defining soil type')\n",
    "    \n",
    "    var = 'vegTypeIndex'\n",
    "    att.createVariable(var, 'i4', 'hru', fill_value = False)\n",
    "    att[var].setncattr('units', '-')\n",
    "    att[var].setncattr('long_name', 'Index defining vegetation type')\n",
    "    \n",
    "    var = 'mHeight'\n",
    "    att.createVariable(var, 'f8', 'hru', fill_value = False)\n",
    "    att[var].setncattr('units', 'm')\n",
    "    att[var].setncattr('long_name', 'Measurement height above bare ground')\n",
    "    \n",
    "    # Progress\n",
    "    progress = 0\n",
    "    \n",
    "    # GRU variable\n",
    "    for idx in range(0,num_gru):\n",
    "        att['gruId'][idx] = gru_ids[idx]\n",
    "    \n",
    "    # HRU variables; due to pre-sorting, these are already in the same order as the forcing files\n",
    "    for idx in range(0,num_hru):\n",
    "        \n",
    "        # Fill values from shapefile\n",
    "        att['hruId'][idx]     = shp.iloc[idx][catchment_hruId_var]\n",
    "        att['HRUarea'][idx]   = shp.iloc[idx][catchment_area_var]\n",
    "        att['latitude'][idx]  = shp.iloc[idx][catchment_lat_var]\n",
    "        att['longitude'][idx] = shp.iloc[idx][catchment_lon_var]\n",
    "        att['hru2gruId'][idx] = shp.iloc[idx][catchment_gruId_var]\n",
    "        \n",
    "        # Constants\n",
    "        att['tan_slope'][idx]      = 0.1                         # Only used in qbaseTopmodel modelling decision\n",
    "        att['contourLength'][idx]  = 30                          # Only used in qbaseTopmodel modelling decision\n",
    "        att['slopeTypeIndex'][idx] = 1                           # Needs to be set but not used\n",
    "        att['mHeight'][idx]        = forcing_measurement_height  # Forcing data height; used in some scaling equations       \n",
    "        att['downHRUindex'][idx]   = 0   # All HRUs modeled as independent columns; optionally changed when elevation is added to attributes.nc\n",
    "        \n",
    "        # Placeholders to be filled later\n",
    "        att['elevation'][idx]     = -999\n",
    "        att['soilTypeIndex'][idx] = -999\n",
    "        att['vegTypeIndex'][idx]  = -999\n",
    "        \n",
    "       # Show a progress report\n",
    "        print(str(progress+1) + ' out of ' + str(num_hru) + ' HRUs completed.')\n",
    "        \n",
    "        # Increment the counter\n",
    "        progress += 1"
   ]
  },
  {
   "cell_type": "code",
   "execution_count": null,
   "metadata": {},
   "outputs": [],
   "source": []
  }
 ],
 "metadata": {
  "kernelspec": {
   "display_name": "pc_env",
   "language": "python",
   "name": "python3"
  },
  "language_info": {
   "codemirror_mode": {
    "name": "ipython",
    "version": 3
   },
   "file_extension": ".py",
   "mimetype": "text/x-python",
   "name": "python",
   "nbconvert_exporter": "python",
   "pygments_lexer": "ipython3",
   "version": "3.11.0"
  }
 },
 "nbformat": 4,
 "nbformat_minor": 4
}
