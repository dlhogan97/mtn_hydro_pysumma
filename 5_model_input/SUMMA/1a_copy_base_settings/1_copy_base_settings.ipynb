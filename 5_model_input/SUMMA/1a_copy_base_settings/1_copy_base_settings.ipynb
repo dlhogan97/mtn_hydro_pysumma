{
 "cells": [
  {
   "cell_type": "markdown",
   "metadata": {
    "vscode": {
     "languageId": "plaintext"
    }
   },
   "source": [
    "# Copy base settings\n",
    "Copies the base settings into the SUMMA settings folder."
   ]
  },
  {
   "cell_type": "code",
   "execution_count": 5,
   "metadata": {},
   "outputs": [],
   "source": [
    "# modules\n",
    "import os\n",
    "os.chdir('/home/dlhogan/GitHub/mtn_hydro_pysumma')\n",
    "from pathlib import Path\n",
    "from shutil import copyfile\n",
    "from datetime import datetime\n",
    "from utils.read_files import read_from_control, make_default_path"
   ]
  },
  {
   "cell_type": "code",
   "execution_count": 6,
   "metadata": {},
   "outputs": [],
   "source": [
    "# Store the name of the 'active' file in a variable\n",
    "basin = \"EastRiver\"\n",
    "controlFile = f'control_{basin}.txt'"
   ]
  },
  {
   "cell_type": "code",
   "execution_count": 7,
   "metadata": {},
   "outputs": [
    {
     "data": {
      "text/plain": [
       "PosixPath('/storage/dlhogan/summa_modeling_data/domain_EastRiver/settings/SUMMA')"
      ]
     },
     "execution_count": 7,
     "metadata": {},
     "output_type": "execute_result"
    }
   ],
   "source": [
    "# Base settings\n",
    "base_settings_path = Path('./5_model_input/SUMMA/0_base_settings')\n",
    "# Settings path \n",
    "settings_path = read_from_control(controlFile,'settings_summa_path')\n",
    "\n",
    "# Specify default path if needed\n",
    "if settings_path == 'default':\n",
    "    settings_path = make_default_path('settings/SUMMA',controlFile) # outputs a Path()\n",
    "else:\n",
    "    settings_path = Path(settings_path) # make sure a user-specified path is a Path()\n",
    "\n",
    "# Make the folder if it doesn't exist\n",
    "settings_path.mkdir(parents=True, exist_ok=True)\n",
    "\n",
    "settings_path\n"
   ]
  },
  {
   "cell_type": "code",
   "execution_count": 8,
   "metadata": {},
   "outputs": [],
   "source": [
    "# Loop over all files and copy\n",
    "for file in os.listdir(base_settings_path):  \n",
    "    \n",
    "    # skip readme \n",
    "    # some users have reported that a notebook checkpoint folder mysteriously appears - skip that too\n",
    "    if 'readme.md' not in file.lower() and '.ipynb_checkpoints' not in file.lower():\n",
    "        copyfile(base_settings_path/file, settings_path/file);"
   ]
  },
  {
   "cell_type": "code",
   "execution_count": null,
   "metadata": {},
   "outputs": [],
   "source": []
  }
 ],
 "metadata": {
  "kernelspec": {
   "display_name": "pc_env",
   "language": "python",
   "name": "python3"
  },
  "language_info": {
   "codemirror_mode": {
    "name": "ipython",
    "version": 3
   },
   "file_extension": ".py",
   "mimetype": "text/x-python",
   "name": "python",
   "nbconvert_exporter": "python",
   "pygments_lexer": "ipython3",
   "version": "3.11.0"
  }
 },
 "nbformat": 4,
 "nbformat_minor": 2
}
