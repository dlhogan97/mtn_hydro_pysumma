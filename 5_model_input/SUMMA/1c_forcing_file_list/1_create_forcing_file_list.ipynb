{
 "cells": [
  {
   "cell_type": "markdown",
   "metadata": {
    "vscode": {
     "languageId": "plaintext"
    }
   },
   "source": [
    "# Create forcing file list\n",
    "Populates text file with the names of the forcing fi\n",
    "les used as SUMMA input"
   ]
  },
  {
   "cell_type": "code",
   "execution_count": 3,
   "metadata": {},
   "outputs": [],
   "source": [
    "# modules\n",
    "import os\n",
    "os.chdir('/home/dlhogan/GitHub/mtn_hydro_pysumma')\n",
    "from pathlib import Path\n",
    "from shutil import copyfile\n",
    "from datetime import datetime\n",
    "from utils.read_files import read_from_control, make_default_path"
   ]
  },
  {
   "cell_type": "code",
   "execution_count": 4,
   "metadata": {},
   "outputs": [],
   "source": [
    "# Store the name of the 'active' file in a variable\n",
    "basin = \"EastRiver\"\n",
    "controlFile = f'control_{basin}.txt'"
   ]
  },
  {
   "cell_type": "code",
   "execution_count": 5,
   "metadata": {},
   "outputs": [],
   "source": [
    "# --- Find forcing location\n",
    "# Forcing path\n",
    "forcing_path = read_from_control(controlFile,'forcing_summa_path')\n",
    "\n",
    "# Specify default path if needed\n",
    "if forcing_path == 'default':\n",
    "    forcing_path = make_default_path('forcing/4_SUMMA_input',controlFile) # outputs a Path()\n",
    "else:\n",
    "    forcing_path = Path(forcing_path) # make sure a user-specified path is a Path()"
   ]
  },
  {
   "cell_type": "code",
   "execution_count": 6,
   "metadata": {},
   "outputs": [],
   "source": [
    "# --- Find where forcing file list needs to go\n",
    "# Forcing file list path & name\n",
    "file_list_path = read_from_control(controlFile,'settings_summa_path')\n",
    "file_list_name = read_from_control(controlFile,'settings_summa_forcing_list')\n",
    "\n",
    "# Specify default path if needed\n",
    "if file_list_path == 'default':\n",
    "    file_list_path = make_default_path('settings/SUMMA', controlFile) # outputs a Path()\n",
    "else:\n",
    "    file_list_path = Path(file_list_path) # make sure a user-specified path is a Path()\n",
    "    \n",
    "# Make the folder if it doesn't exist\n",
    "file_list_path.mkdir(parents=True, exist_ok=True)\n"
   ]
  },
  {
   "cell_type": "code",
   "execution_count": 7,
   "metadata": {},
   "outputs": [],
   "source": [
    "# --- Make the file\n",
    "# Find a list of forcing files\n",
    "_,_,forcing_files = next(os.walk(forcing_path))\n",
    "\n",
    "# Sort this list\n",
    "forcing_files.sort()\n",
    "\n",
    "# Create the file list\n",
    "with open(file_list_path / file_list_name, 'w') as f:\n",
    "    for file in forcing_files:\n",
    "        f.write(str(file) + \"\\n\")"
   ]
  },
  {
   "cell_type": "code",
   "execution_count": null,
   "metadata": {},
   "outputs": [],
   "source": []
  },
  {
   "cell_type": "code",
   "execution_count": null,
   "metadata": {},
   "outputs": [],
   "source": []
  }
 ],
 "metadata": {
  "kernelspec": {
   "display_name": "pc_env",
   "language": "python",
   "name": "python3"
  },
  "language_info": {
   "codemirror_mode": {
    "name": "ipython",
    "version": 3
   },
   "file_extension": ".py",
   "mimetype": "text/x-python",
   "name": "python",
   "nbconvert_exporter": "python",
   "pygments_lexer": "ipython3",
   "version": "3.11.0"
  }
 },
 "nbformat": 4,
 "nbformat_minor": 2
}
