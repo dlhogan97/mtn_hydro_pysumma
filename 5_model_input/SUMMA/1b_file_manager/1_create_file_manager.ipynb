{
 "cells": [
  {
   "cell_type": "markdown",
   "metadata": {
    "vscode": {
     "languageId": "plaintext"
    }
   },
   "source": [
    "# Create File Manager\n",
    "Populates a text file with the required inputs for a SUMMA run"
   ]
  },
  {
   "cell_type": "code",
   "execution_count": 1,
   "metadata": {},
   "outputs": [],
   "source": [
    "# modules\n",
    "import os\n",
    "from pathlib import Path\n",
    "from shutil import copyfile\n",
    "from datetime import datetime\n",
    "from utils.read_files import read_from_control, make_default_path"
   ]
  },
  {
   "cell_type": "code",
   "execution_count": 2,
   "metadata": {},
   "outputs": [],
   "source": [
    "# Store the name of the 'active' file in a variable\n",
    "basin = \"EastRiver\"\n",
    "controlFile = f'control_{basin}.txt'"
   ]
  },
  {
   "cell_type": "code",
   "execution_count": 4,
   "metadata": {},
   "outputs": [
    {
     "data": {
      "text/plain": [
       "PosixPath('/storage/dlhogan/summa_modeling_data/domain_EastRiver/settings/SUMMA')"
      ]
     },
     "execution_count": 4,
     "metadata": {},
     "output_type": "execute_result"
    }
   ],
   "source": [
    "# Forcing file list path & name\n",
    "filemanager_path = read_from_control(controlFile,'settings_summa_path')\n",
    "filemanager_name = read_from_control(controlFile,'settings_summa_filemanager')\n",
    "\n",
    "\n",
    "# Forcing file list path & name\n",
    "filemanager_path = read_from_control(controlFile,'settings_summa_path')\n",
    "filemanager_name = read_from_control(controlFile,'settings_summa_filemanager')\n",
    "# Specify default path if needed\n",
    "if filemanager_path == 'default':\n",
    "    filemanager_path = make_default_path('settings/SUMMA', controlFile) # outputs a Path()\n",
    "else:\n",
    "    filemanager_path = Path(filemanager_path) # make sure a user-specified path is a Path()\n",
    "\n",
    "\n",
    "# Make the folder if it doesn't exist\n",
    "filemanager_path.mkdir(parents=True, exist_ok=True)"
   ]
  },
  {
   "cell_type": "code",
   "execution_count": 15,
   "metadata": {},
   "outputs": [],
   "source": [
    "# Get the experiment ID\n",
    "experiment_id = read_from_control(controlFile,'experiment_id')"
   ]
  },
  {
   "cell_type": "code",
   "execution_count": 10,
   "metadata": {},
   "outputs": [],
   "source": [
    "\n",
    "# Simulation times\n",
    "sim_start = read_from_control(controlFile,'experiment_time_start')\n",
    "sim_end   = read_from_control(controlFile,'experiment_time_end')\n",
    "\n",
    "# Define default times if needed\n",
    "if sim_start == 'default':\n",
    "    raw_time = read_from_control(controlFile,'forcing_raw_time') # downloaded forcing (years)\n",
    "    # convert to water year\n",
    "    year_start,_ = raw_time.split(',') # split into separate variables\n",
    "    sim_start = str(int(year_start)-1) + '-10-01 00:00' # construct the filemanager field\n",
    "\n",
    "if sim_end == 'default':\n",
    "    raw_time = read_from_control(controlFile,'forcing_raw_time') # downloaded forcing (years)\n",
    "    _,year_end = raw_time.split(',') # split into separate variables\n",
    "    sim_end   = year_end   + '-09-30 23:00' # construct the filemanager field"
   ]
  },
  {
   "cell_type": "code",
   "execution_count": 12,
   "metadata": {},
   "outputs": [],
   "source": [
    "# Paths - settings folder\n",
    "path_to_settings = read_from_control(controlFile,'settings_summa_path')\n",
    "\n",
    "# Specify default path if needed\n",
    "if path_to_settings == 'default':\n",
    "    path_to_settings = make_default_path('settings/SUMMA', controlFile) # outputs a Path()\n",
    "else:\n",
    "    path_to_settings = Path(path_to_settings) # make sure a user-specified path is a Path()"
   ]
  },
  {
   "cell_type": "code",
   "execution_count": 13,
   "metadata": {},
   "outputs": [],
   "source": [
    "# Paths - forcing folder\n",
    "path_to_forcing = read_from_control(controlFile,'forcing_summa_path')\n",
    "\n",
    "# Specify default path if needed\n",
    "if path_to_forcing == 'default':\n",
    "    path_to_forcing = make_default_path('forcing/4_SUMMA_input', controlFile) # outputs a Path()\n",
    "else:\n",
    "    path_to_forcing = Path(path_to_forcing) # make sure a user-specified path is a Path()"
   ]
  },
  {
   "cell_type": "code",
   "execution_count": 16,
   "metadata": {},
   "outputs": [],
   "source": [
    "# Paths - output folder\n",
    "path_to_output = read_from_control(controlFile,'experiment_output_summa')\n",
    "\n",
    "# Specify default path if needed\n",
    "if path_to_output == 'default':  \n",
    "    path_to_output = make_default_path('simulations/' + experiment_id + '/SUMMA', controlFile) # outputs a Path()\n",
    "else:\n",
    "    path_to_output = Path(path_to_output) # make sure a user-specified path is a Path()\n",
    "    \n",
    "# Make the folder if it doesn't exist\n",
    "path_to_output.mkdir(parents=True, exist_ok=True)"
   ]
  },
  {
   "cell_type": "code",
   "execution_count": 17,
   "metadata": {},
   "outputs": [],
   "source": [
    "# File names of setting files\n",
    "initial_conditions_nc = read_from_control(controlFile,'settings_summa_coldstate')\n",
    "attributes_nc         = read_from_control(controlFile,'settings_summa_attributes')\n",
    "trial_parameters_nc   = read_from_control(controlFile,'settings_summa_trialParams')\n",
    "forcing_file_list_txt = read_from_control(controlFile,'settings_summa_forcing_list')"
   ]
  },
  {
   "cell_type": "code",
   "execution_count": 18,
   "metadata": {},
   "outputs": [],
   "source": [
    "# Make the file \n",
    "# Create the file list\n",
    "with open(filemanager_path / filemanager_name, 'w') as fm:\n",
    "    \n",
    "    # Header\n",
    "    fm.write(\"controlVersion       'SUMMA_FILE_MANAGER_V3.0.0' !  file manager version \\n\")\n",
    "    \n",
    "    # Simulation times\n",
    "    fm.write(\"simStartTime         '{}' ! \\n\".format(sim_start))\n",
    "    fm.write(\"simEndTime           '{}' ! \\n\".format(sim_end))\n",
    "    fm.write(\"tmZoneInfo           'utcTime' ! \\n\")\n",
    "    \n",
    "    # Prefix for SUMMA outputs\n",
    "    fm.write(\"outFilePrefix        '{}' ! \\n\".format(experiment_id))\n",
    "    \n",
    "    # Paths\n",
    "    fm.write(\"settingsPath         '{}/' ! \\n\".format(path_to_settings))\n",
    "    fm.write(\"forcingPath          '{}/' ! \\n\".format(path_to_forcing))\n",
    "    fm.write(\"outputPath           '{}/' ! \\n\".format(path_to_output))\n",
    "    \n",
    "    # Input file names\n",
    "    fm.write(\"initConditionFile    '{}' ! Relative to settingsPath \\n\".format(initial_conditions_nc))\n",
    "    fm.write(\"attributeFile        '{}' ! Relative to settingsPath \\n\".format(attributes_nc))\n",
    "    fm.write(\"trialParamFile       '{}' ! Relative to settingsPath \\n\".format(trial_parameters_nc))\n",
    "    fm.write(\"forcingListFile      '{}' ! Relative to settingsPath \\n\".format(forcing_file_list_txt))\n",
    "    \n",
    "    # Base files (not domain-dependent)\n",
    "    fm.write(\"decisionsFile        'modelDecisions.txt' !  Relative to settingsPath \\n\")\n",
    "    fm.write(\"outputControlFile    'outputControl.txt' !  Relative to settingsPath \\n\")\n",
    "    fm.write(\"globalHruParamFile   'localParamInfo.txt' !  Relative to settingsPath \\n\")\n",
    "    fm.write(\"globalGruParamFile   'basinParamInfo.txt' !  Relative to settingsPatho \\n\")\n",
    "    fm.write(\"vegTableFile         'TBL_VEGPARM.TBL' ! Relative to settingsPath \\n\")\n",
    "    fm.write(\"soilTableFile        'TBL_SOILPARM.TBL' ! Relative to settingsPath \\n\")\n",
    "    fm.write(\"generalTableFile     'TBL_GENPARM.TBL' ! Relative to settingsPath \\n\")\n",
    "    fm.write(\"noahmpTableFile      'TBL_MPTABLE.TBL' ! Relative to settingsPath \\n\")"
   ]
  },
  {
   "cell_type": "code",
   "execution_count": 19,
   "metadata": {},
   "outputs": [
    {
     "data": {
      "text/plain": [
       "PosixPath('/storage/dlhogan/summa_modeling_data/domain_EastRiver/settings/SUMMA/fileManager.txt')"
      ]
     },
     "execution_count": 19,
     "metadata": {},
     "output_type": "execute_result"
    }
   ],
   "source": [
    "filemanager_path / filemanager_name"
   ]
  }
 ],
 "metadata": {
  "kernelspec": {
   "display_name": "pc_env",
   "language": "python",
   "name": "python3"
  },
  "language_info": {
   "codemirror_mode": {
    "name": "ipython",
    "version": 3
   },
   "file_extension": ".py",
   "mimetype": "text/x-python",
   "name": "python",
   "nbconvert_exporter": "python",
   "pygments_lexer": "ipython3",
   "version": "3.11.0"
  }
 },
 "nbformat": 4,
 "nbformat_minor": 2
}
