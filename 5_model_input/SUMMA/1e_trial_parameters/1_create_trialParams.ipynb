{
 "cells": [
  {
   "cell_type": "markdown",
   "metadata": {},
   "source": [
    "# Create trialParams.nc\n",
    "Creates empty `trialParams.nc` file for SUMMA runs. This file will initially be empty, but can later be populated with parameter values the user whishes to test.\n",
    "\n",
    "## Note on HRU order\n",
    "HRU order must be the same in forcing, attributes, initial conditions and trial parameter files. Order will be taken from forcing files to ensure consistency."
   ]
  },
  {
   "cell_type": "code",
   "execution_count": 2,
   "metadata": {},
   "outputs": [],
   "source": [
    "# modules\n",
    "import os\n",
    "os.chdir('/home/dlhogan/GitHub/mtn_hydro_pysumma')\n",
    "import numpy as np\n",
    "import xarray as xr\n",
    "import netCDF4 as nc4\n",
    "from pathlib import Path\n",
    "from shutil import copyfile\n",
    "from datetime import datetime\n",
    "from utils.read_files import read_from_control, make_default_path"
   ]
  },
  {
   "cell_type": "markdown",
   "metadata": {},
   "source": [
    "#### Control file handling"
   ]
  },
  {
   "cell_type": "code",
   "execution_count": 3,
   "metadata": {},
   "outputs": [],
   "source": [
    "# Store the name of the 'active' file in a variable\n",
    "basin = \"EastRiver\"\n",
    "controlFile = f'control_{basin}.txt'"
   ]
  },
  {
   "cell_type": "markdown",
   "metadata": {},
   "source": [
    "#### Find forcing location and an example file"
   ]
  },
  {
   "cell_type": "code",
   "execution_count": 4,
   "metadata": {},
   "outputs": [],
   "source": [
    "# Forcing path\n",
    "forcing_path = read_from_control(controlFile,'forcing_summa_path')"
   ]
  },
  {
   "cell_type": "code",
   "execution_count": 5,
   "metadata": {},
   "outputs": [],
   "source": [
    "# Specify default path if needed\n",
    "if forcing_path == 'default':\n",
    "    forcing_path = make_default_path('forcing/4_SUMMA_input', controlFile) # outputs a Path()\n",
    "else:\n",
    "    forcing_path = Path(forcing_path) # make sure a user-specified path is a Path()"
   ]
  },
  {
   "cell_type": "code",
   "execution_count": 6,
   "metadata": {},
   "outputs": [],
   "source": [
    "# Find a list of forcing files\n",
    "_,_,forcing_files = next(os.walk(forcing_path))"
   ]
  },
  {
   "cell_type": "code",
   "execution_count": 7,
   "metadata": {},
   "outputs": [],
   "source": [
    "# Select a random file as a template for hruId order\n",
    "forcing_name = forcing_files[0]"
   ]
  },
  {
   "cell_type": "markdown",
   "metadata": {},
   "source": [
    "#### Find where the trial parameter file needs to go"
   ]
  },
  {
   "cell_type": "code",
   "execution_count": 8,
   "metadata": {},
   "outputs": [],
   "source": [
    "# Trial parameter path & name\n",
    "parameter_path = read_from_control(controlFile,'settings_summa_path')\n",
    "parameter_name = read_from_control(controlFile,'settings_summa_trialParams')"
   ]
  },
  {
   "cell_type": "code",
   "execution_count": 9,
   "metadata": {},
   "outputs": [],
   "source": [
    "# Specify default path if needed\n",
    "if parameter_path == 'default':\n",
    "    parameter_path = make_default_path('settings/SUMMA', controlFile) # outputs a Path()\n",
    "else:\n",
    "    parameter_path = Path(parameter_path) # make sure a user-specified path is a Path()"
   ]
  },
  {
   "cell_type": "code",
   "execution_count": 10,
   "metadata": {},
   "outputs": [],
   "source": [
    "# Make the folder if it doesn't exist\n",
    "parameter_path.mkdir(parents=True, exist_ok=True)"
   ]
  },
  {
   "cell_type": "markdown",
   "metadata": {},
   "source": [
    "#### Find order and number of HRUs in forcing file"
   ]
  },
  {
   "cell_type": "code",
   "execution_count": 11,
   "metadata": {},
   "outputs": [
    {
     "name": "stderr",
     "output_type": "stream",
     "text": [
      "/tmp/ipykernel_25612/1115369196.py:2: FutureWarning: In a future version of xarray decode_timedelta will default to False rather than None. To silence this warning, set decode_timedelta to True, False, or a 'CFTimedeltaCoder' instance.\n",
      "  forc = xr.open_dataset(forcing_path/forcing_name)\n"
     ]
    }
   ],
   "source": [
    "# Open the forcing file\n",
    "forc = xr.open_dataset(forcing_path/forcing_name)"
   ]
  },
  {
   "cell_type": "code",
   "execution_count": 12,
   "metadata": {},
   "outputs": [],
   "source": [
    "# Get the sorting order from the forcing file\n",
    "forcing_hruIds = forc['hruId'].values.astype(int) # 'hruId' is prescribed by SUMMA so this variable must exist"
   ]
  },
  {
   "cell_type": "code",
   "execution_count": 13,
   "metadata": {},
   "outputs": [],
   "source": [
    "# Number of HRUs\n",
    "num_hru = len(forcing_hruIds)"
   ]
  },
  {
   "cell_type": "markdown",
   "metadata": {},
   "source": [
    "#### Read any other trial parameters that need to be specified"
   ]
  },
  {
   "cell_type": "code",
   "execution_count": 14,
   "metadata": {},
   "outputs": [],
   "source": [
    "num_tp = int( read_from_control(controlFile,'settings_summa_trialParam_n') )"
   ]
  },
  {
   "cell_type": "code",
   "execution_count": 15,
   "metadata": {},
   "outputs": [],
   "source": [
    "# read the names and values of trial parameters to specify\n",
    "all_tp = {}\n",
    "for ii in range(0,num_tp):\n",
    "    \n",
    "    # Get the values\n",
    "    par_and_val = read_from_control(controlFile,f'settings_summa_trialParam_{ii+1}')\n",
    "    \n",
    "    # Split into parameter and value\n",
    "    arr = par_and_val.split(',')\n",
    "    \n",
    "    # Convert value(s) into float\n",
    "    if len(arr) > 2:\n",
    "        # Store all values as an array of floats    \n",
    "        val = np.array(arr[1:], dtype=np.float32)\n",
    "    else: \n",
    "        # Convert the single value to a float\n",
    "        val = float( arr[1] )\n",
    "        \n",
    "    # Store in dictionary\n",
    "    all_tp[arr[0]] = val"
   ]
  },
  {
   "cell_type": "markdown",
   "metadata": {},
   "source": [
    "#### Make the trial parameter file"
   ]
  },
  {
   "cell_type": "code",
   "execution_count": 16,
   "metadata": {},
   "outputs": [],
   "source": [
    "# Create the empty trial params file\n",
    "with nc4.Dataset(parameter_path/parameter_name, \"w\", format=\"NETCDF4\") as tp:\n",
    "    \n",
    "    # === Some general attributes\n",
    "    now = datetime.now()\n",
    "    tp.setncattr('Author', \"Created by SUMMA workflow scripts\")\n",
    "    tp.setncattr('History','Created ' + now.strftime('%Y/%m/%d %H:%M:%S'))\n",
    "    tp.setncattr('Purpose','Create a trial parameter .nc file for initial SUMMA runs')\n",
    "    \n",
    "    # === Define the dimensions \n",
    "    tp.createDimension('hru',num_hru)\n",
    "    \n",
    "    # === Variables ===\n",
    "    var = 'hruId'\n",
    "    tp.createVariable(var, 'i4', 'hru', fill_value = False)\n",
    "    tp[var].setncattr('units', '-')\n",
    "    tp[var].setncattr('long_name', 'Index of hydrological response unit (HRU)')\n",
    "    tp[var][:] = forcing_hruIds\n",
    "    \n",
    "    # Loop over any specified trial parameters and store in file\n",
    "    for var,val in all_tp.items():\n",
    "        tp.createVariable(var, 'f8', 'hru', fill_value = False)\n",
    "        tp[var][:] = val    "
   ]
  },
  {
   "cell_type": "code",
   "execution_count": 17,
   "metadata": {},
   "outputs": [
    {
     "data": {
      "text/plain": [
       "PosixPath('/storage/dlhogan/summa_modeling_data/domain_EastRiver/settings/SUMMA')"
      ]
     },
     "execution_count": 17,
     "metadata": {},
     "output_type": "execute_result"
    }
   ],
   "source": [
    "parameter_path"
   ]
  },
  {
   "cell_type": "code",
   "execution_count": null,
   "metadata": {},
   "outputs": [],
   "source": []
  }
 ],
 "metadata": {
  "kernelspec": {
   "display_name": "pc_env",
   "language": "python",
   "name": "python3"
  },
  "language_info": {
   "codemirror_mode": {
    "name": "ipython",
    "version": 3
   },
   "file_extension": ".py",
   "mimetype": "text/x-python",
   "name": "python",
   "nbconvert_exporter": "python",
   "pygments_lexer": "ipython3",
   "version": "3.11.0"
  }
 },
 "nbformat": 4,
 "nbformat_minor": 4
}
